{
 "cells": [
  {
   "cell_type": "code",
   "execution_count": 2,
   "metadata": {},
   "outputs": [],
   "source": [
    "# Importando as Bibliotecas:\n",
    "\n",
    "import pandas as pd\n",
    "import plotly.express as px\n",
    "from haversine import haversine as hs\n",
    "import plotly.graph_objects as go\n",
    "import streamlit as st\n",
    "from PIL import Image\n",
    "import numpy as np\n",
    "import folium\n",
    "import datetime\n",
    "from streamlit_folium import folium_static\n",
    "import inflection\n",
    "\n",
    "# --------------------------------------\n",
    "# Importando o data set:\n",
    "df_raw = pd.read_csv(\"zomato.csv\")\n",
    "df = df_raw.copy()"
   ]
  },
  {
   "cell_type": "code",
   "execution_count": 209,
   "metadata": {},
   "outputs": [
    {
     "data": {
      "text/html": [
       "<div>\n",
       "<style scoped>\n",
       "    .dataframe tbody tr th:only-of-type {\n",
       "        vertical-align: middle;\n",
       "    }\n",
       "\n",
       "    .dataframe tbody tr th {\n",
       "        vertical-align: top;\n",
       "    }\n",
       "\n",
       "    .dataframe thead th {\n",
       "        text-align: right;\n",
       "    }\n",
       "</style>\n",
       "<table border=\"1\" class=\"dataframe\">\n",
       "  <thead>\n",
       "    <tr style=\"text-align: right;\">\n",
       "      <th></th>\n",
       "      <th>Restaurant ID</th>\n",
       "      <th>Restaurant Name</th>\n",
       "      <th>Country Code</th>\n",
       "      <th>City</th>\n",
       "      <th>Address</th>\n",
       "      <th>Locality</th>\n",
       "      <th>Locality Verbose</th>\n",
       "      <th>Longitude</th>\n",
       "      <th>Latitude</th>\n",
       "      <th>Cuisines</th>\n",
       "      <th>...</th>\n",
       "      <th>Currency</th>\n",
       "      <th>Has Table booking</th>\n",
       "      <th>Has Online delivery</th>\n",
       "      <th>Is delivering now</th>\n",
       "      <th>Switch to order menu</th>\n",
       "      <th>Price range</th>\n",
       "      <th>Aggregate rating</th>\n",
       "      <th>Rating color</th>\n",
       "      <th>Rating text</th>\n",
       "      <th>Votes</th>\n",
       "    </tr>\n",
       "  </thead>\n",
       "  <tbody>\n",
       "    <tr>\n",
       "      <th>0</th>\n",
       "      <td>6310675</td>\n",
       "      <td>Mama Lou's Italian Kitchen</td>\n",
       "      <td>162</td>\n",
       "      <td>Las Piñas City</td>\n",
       "      <td>Block 1, Lot 36, Tropical Avenue Corner Tropic...</td>\n",
       "      <td>BF International</td>\n",
       "      <td>BF International, Las Piñas City</td>\n",
       "      <td>121.009787</td>\n",
       "      <td>14.447615</td>\n",
       "      <td>Italian</td>\n",
       "      <td>...</td>\n",
       "      <td>Botswana Pula(P)</td>\n",
       "      <td>1</td>\n",
       "      <td>0</td>\n",
       "      <td>0</td>\n",
       "      <td>0</td>\n",
       "      <td>3</td>\n",
       "      <td>4.6</td>\n",
       "      <td>3F7E00</td>\n",
       "      <td>Excellent</td>\n",
       "      <td>619</td>\n",
       "    </tr>\n",
       "    <tr>\n",
       "      <th>1</th>\n",
       "      <td>6310675</td>\n",
       "      <td>Mama Lou's Italian Kitchen</td>\n",
       "      <td>162</td>\n",
       "      <td>Las Piñas City</td>\n",
       "      <td>Block 1, Lot 36, Tropical Avenue Corner Tropic...</td>\n",
       "      <td>BF International</td>\n",
       "      <td>BF International, Las Piñas City</td>\n",
       "      <td>121.009787</td>\n",
       "      <td>14.447615</td>\n",
       "      <td>Italian</td>\n",
       "      <td>...</td>\n",
       "      <td>Botswana Pula(P)</td>\n",
       "      <td>1</td>\n",
       "      <td>0</td>\n",
       "      <td>0</td>\n",
       "      <td>0</td>\n",
       "      <td>3</td>\n",
       "      <td>4.6</td>\n",
       "      <td>3F7E00</td>\n",
       "      <td>Excellent</td>\n",
       "      <td>619</td>\n",
       "    </tr>\n",
       "    <tr>\n",
       "      <th>2</th>\n",
       "      <td>6314542</td>\n",
       "      <td>Blackbird</td>\n",
       "      <td>162</td>\n",
       "      <td>Makati City</td>\n",
       "      <td>Nielson Tower, Ayala Triangle Gardens, Salcedo...</td>\n",
       "      <td>Ayala Triangle Gardens, Salcedo Village, Makat...</td>\n",
       "      <td>Ayala Triangle Gardens, Salcedo Village, Makat...</td>\n",
       "      <td>121.024562</td>\n",
       "      <td>14.556042</td>\n",
       "      <td>European, Asian</td>\n",
       "      <td>...</td>\n",
       "      <td>Botswana Pula(P)</td>\n",
       "      <td>0</td>\n",
       "      <td>0</td>\n",
       "      <td>0</td>\n",
       "      <td>0</td>\n",
       "      <td>4</td>\n",
       "      <td>4.7</td>\n",
       "      <td>3F7E00</td>\n",
       "      <td>Excellent</td>\n",
       "      <td>469</td>\n",
       "    </tr>\n",
       "  </tbody>\n",
       "</table>\n",
       "<p>3 rows × 21 columns</p>\n",
       "</div>"
      ],
      "text/plain": [
       "   Restaurant ID             Restaurant Name  Country Code            City  \\\n",
       "0        6310675  Mama Lou's Italian Kitchen           162  Las Piñas City   \n",
       "1        6310675  Mama Lou's Italian Kitchen           162  Las Piñas City   \n",
       "2        6314542                   Blackbird           162     Makati City   \n",
       "\n",
       "                                             Address  \\\n",
       "0  Block 1, Lot 36, Tropical Avenue Corner Tropic...   \n",
       "1  Block 1, Lot 36, Tropical Avenue Corner Tropic...   \n",
       "2  Nielson Tower, Ayala Triangle Gardens, Salcedo...   \n",
       "\n",
       "                                            Locality  \\\n",
       "0                                   BF International   \n",
       "1                                   BF International   \n",
       "2  Ayala Triangle Gardens, Salcedo Village, Makat...   \n",
       "\n",
       "                                    Locality Verbose   Longitude   Latitude  \\\n",
       "0                   BF International, Las Piñas City  121.009787  14.447615   \n",
       "1                   BF International, Las Piñas City  121.009787  14.447615   \n",
       "2  Ayala Triangle Gardens, Salcedo Village, Makat...  121.024562  14.556042   \n",
       "\n",
       "          Cuisines  ...          Currency Has Table booking  \\\n",
       "0          Italian  ...  Botswana Pula(P)                 1   \n",
       "1          Italian  ...  Botswana Pula(P)                 1   \n",
       "2  European, Asian  ...  Botswana Pula(P)                 0   \n",
       "\n",
       "   Has Online delivery  Is delivering now  Switch to order menu  Price range  \\\n",
       "0                    0                  0                     0            3   \n",
       "1                    0                  0                     0            3   \n",
       "2                    0                  0                     0            4   \n",
       "\n",
       "   Aggregate rating  Rating color Rating text Votes  \n",
       "0               4.6        3F7E00   Excellent   619  \n",
       "1               4.6        3F7E00   Excellent   619  \n",
       "2               4.7        3F7E00   Excellent   469  \n",
       "\n",
       "[3 rows x 21 columns]"
      ]
     },
     "execution_count": 209,
     "metadata": {},
     "output_type": "execute_result"
    }
   ],
   "source": [
    "df.head(3)"
   ]
  },
  {
   "cell_type": "code",
   "execution_count": 210,
   "metadata": {},
   "outputs": [
    {
     "name": "stdout",
     "output_type": "stream",
     "text": [
      "(7527, 21)\n"
     ]
    }
   ],
   "source": [
    "print(df.shape)"
   ]
  },
  {
   "attachments": {},
   "cell_type": "markdown",
   "metadata": {},
   "source": [
    "## Limpeza do Conjunto de Dados e Funções\n"
   ]
  },
  {
   "cell_type": "code",
   "execution_count": 3,
   "metadata": {},
   "outputs": [
    {
     "name": "stderr",
     "output_type": "stream",
     "text": [
      "C:\\Users\\corte\\AppData\\Local\\Temp\\ipykernel_16044\\181282775.py:86: SettingWithCopyWarning: \n",
      "A value is trying to be set on a copy of a slice from a DataFrame.\n",
      "Try using .loc[row_indexer,col_indexer] = value instead\n",
      "\n",
      "See the caveats in the documentation: https://pandas.pydata.org/pandas-docs/stable/user_guide/indexing.html#returning-a-view-versus-a-copy\n",
      "  df[\"Cuisines\"] = df.loc[:, \"Cuisines\"].astype(str).apply(lambda x: x.split(\",\")[0])\n"
     ]
    }
   ],
   "source": [
    "# 1. Retirar a coluna de valores vazios 'Swith to order menu':\n",
    "df = df.drop(\"Switch to order menu\", axis=1)\n",
    "\n",
    "# 2. Renomeando as colunas do Dataframe:\n",
    "df = df.rename(columns={\"Restaurant ID\": \"Restaurant_ID\", \"Restaurant Name\": \"Restaurant_Name\", \"Country Code\": \"Country_Name\", \"Locality Verbose\": \"Locality_Verbose\", \"Average Cost for two\": \"Average_Cost_for_two\", \"Has Table booking\": \"Has_Table_booking\", \"Has Online delivery\": \"Has_Online_delivery\", \"Is delivering now\": \"Is_delivering_now\", \"Price range\": \"Price_range\", \"Aggregate rating\": \"Aggregate_rating\", \"Rating color\": \"Rating_color\", \"Rating text\": \"Rating_text\"})\n",
    "# Sugerido pelo professor:\n",
    "#def rename_columns(dataframe):\n",
    "#  df = dataframe.copy()\n",
    "#  title = lambda x: inflection.titleize(x)\n",
    "#  snakecase = lambda x: inflection.underscore(x)\n",
    "#  spaces = lambda x: x.replace(\" \", \"\")\n",
    "#  cols_old = list(df.columns)\n",
    "#  cols_old = list(map(title, cols_old))\n",
    "#  cols_old = list(map(spaces, cols_old))\n",
    "#  cols_new = list(map(snakecase, cols_old))\n",
    "#  df.columns = cols_new\n",
    "#  return df\n",
    "\n",
    "# 3. Para colocar o nome dos países com base no código de cada país:\n",
    "COUNTRIES = {\n",
    "1: \"India\",\n",
    "14: \"Australia\",\n",
    "30: \"Brazil\",\n",
    "37: \"Canada\",\n",
    "94: \"Indonesia\",\n",
    "148: \"New Zeland\",\n",
    "162: \"Philippines\",\n",
    "166: \"Qatar\",\n",
    "184: \"Singapure\",\n",
    "189: \"South Africa\",\n",
    "191: \"Sri Lanka\",\n",
    "208: \"Turkey\",\n",
    "214: \"United Arab Emirates\",\n",
    "215: \"England\",\n",
    "216: \"United States of America\",\n",
    "}\n",
    "def country_name(Country_ID):\n",
    "  return COUNTRIES[Country_ID]\n",
    "\n",
    "df[\"Country_Name\"] = df[\"Country_Name\"].map(country_name)\n",
    "\n",
    "# 4. Criação do nome das Cores:\n",
    "COLORS = {\n",
    "\"3F7E00\": \"darkgreen\",\n",
    "\"5BA829\": \"green\",\n",
    "\"9ACD32\": \"lightgreen\",\n",
    "\"CDD614\": \"orange\",\n",
    "\"FFBA00\": \"red\",\n",
    "\"CBCBC8\": \"darkred\",\n",
    "\"FF7800\": \"darkred\",\n",
    "}\n",
    "def color_name(color_code):\n",
    "  return COLORS[color_code]\n",
    "\n",
    "df[\"Rating_color\"] = df[\"Rating_color\"].map(color_name)\n",
    "\n",
    "# 5. Criação do Tipo de Categoria de Comida\n",
    "def create_price_tye(Price_range):\n",
    "  if Price_range == 1:\n",
    "    return \"cheap\"\n",
    "  elif Price_range == 2:\n",
    "    return \"normal\"\n",
    "  elif Price_range == 3:\n",
    "    return \"expensive\"\n",
    "  else:\n",
    "    return \"gourmet\"\n",
    "\n",
    "df[\"Price_range\"] = df[\"Price_range\"].map(create_price_tye)\n",
    "\n",
    "# 6. Verificando se tem Dados Duplicados:\n",
    "df_sem_duplicatas = df.drop_duplicates()\n",
    "df = df_sem_duplicatas \n",
    "\n",
    "# 7. Remove os NA que forem np.na:\n",
    "df = df.dropna()\n",
    "# Verificar se há valores nulos ou NaN em cada coluna\n",
    "#colunas_com_nulos = df.isnull().any()\n",
    "# Exibir as colunas com valores nulos ou NaN\n",
    "#print(colunas_com_nulos)\n",
    "# Contar o número de valores nulos ou NaN em cada coluna\n",
    "#contagem_nulos = df.isnull().sum()\n",
    "# Exibir a contagem de nulos por coluna\n",
    "#print(contagem_nulos)\n",
    "\n",
    "# 8. Categorizar todos os restaurantes somente por um tipo de culinária:\n",
    "df[\"Cuisines\"] = df.loc[:, \"Cuisines\"].astype(str).apply(lambda x: x.split(\",\")[0])\n",
    "\n",
    "# 9. Retirar Registros com Média Negativa de Avaliação:\n",
    "linhas_negativas = df[\"Cuisines\"] != \"Mineira\"\n",
    "df = df.loc[linhas_negativas, :]\n",
    "linhas_negativas2 = df[\"Cuisines\"] != \"Drinks Only\"\n",
    "df = df.loc[linhas_negativas2,:]"
   ]
  },
  {
   "cell_type": "code",
   "execution_count": 4,
   "metadata": {},
   "outputs": [
    {
     "data": {
      "text/plain": [
       "(6927, 20)"
      ]
     },
     "execution_count": 4,
     "metadata": {},
     "output_type": "execute_result"
    }
   ],
   "source": [
    "\n",
    "df.shape"
   ]
  },
  {
   "attachments": {},
   "cell_type": "markdown",
   "metadata": {},
   "source": [
    "## Resolução das Perguntas Propostas"
   ]
  },
  {
   "cell_type": "code",
   "execution_count": 249,
   "metadata": {},
   "outputs": [
    {
     "data": {
      "text/plain": [
       "Index(['Restaurant_ID', 'Restaurant_Name', 'Country_Name', 'City', 'Address',\n",
       "       'Locality', 'Locality_Verbose', 'Longitude', 'Latitude', 'Cuisines',\n",
       "       'Average_Cost_for_two', 'Currency', 'Has_Table_booking',\n",
       "       'Has_Online_delivery', 'Is_delivering_now', 'Price_range',\n",
       "       'Aggregate_rating', 'Rating_color', 'Rating_text', 'Votes'],\n",
       "      dtype='object')"
      ]
     },
     "execution_count": 249,
     "metadata": {},
     "output_type": "execute_result"
    }
   ],
   "source": [
    "df.columns"
   ]
  },
  {
   "cell_type": "code",
   "execution_count": 7,
   "metadata": {},
   "outputs": [
    {
     "data": {
      "text/html": [
       "<div>\n",
       "<style scoped>\n",
       "    .dataframe tbody tr th:only-of-type {\n",
       "        vertical-align: middle;\n",
       "    }\n",
       "\n",
       "    .dataframe tbody tr th {\n",
       "        vertical-align: top;\n",
       "    }\n",
       "\n",
       "    .dataframe thead th {\n",
       "        text-align: right;\n",
       "    }\n",
       "</style>\n",
       "<table border=\"1\" class=\"dataframe\">\n",
       "  <thead>\n",
       "    <tr style=\"text-align: right;\">\n",
       "      <th></th>\n",
       "      <th>Restaurant_ID</th>\n",
       "      <th>Restaurant_Name</th>\n",
       "      <th>Country_Name</th>\n",
       "      <th>City</th>\n",
       "      <th>Address</th>\n",
       "      <th>Locality</th>\n",
       "      <th>Locality_Verbose</th>\n",
       "      <th>Longitude</th>\n",
       "      <th>Latitude</th>\n",
       "      <th>Cuisines</th>\n",
       "      <th>Average_Cost_for_two</th>\n",
       "      <th>Currency</th>\n",
       "      <th>Has_Table_booking</th>\n",
       "      <th>Has_Online_delivery</th>\n",
       "      <th>Is_delivering_now</th>\n",
       "      <th>Price_range</th>\n",
       "      <th>Aggregate_rating</th>\n",
       "      <th>Rating_color</th>\n",
       "      <th>Rating_text</th>\n",
       "      <th>Votes</th>\n",
       "    </tr>\n",
       "  </thead>\n",
       "  <tbody>\n",
       "    <tr>\n",
       "      <th>0</th>\n",
       "      <td>6310675</td>\n",
       "      <td>Mama Lou's Italian Kitchen</td>\n",
       "      <td>Philippines</td>\n",
       "      <td>Las Piñas City</td>\n",
       "      <td>Block 1, Lot 36, Tropical Avenue Corner Tropic...</td>\n",
       "      <td>BF International</td>\n",
       "      <td>BF International, Las Piñas City</td>\n",
       "      <td>121.009787</td>\n",
       "      <td>14.447615</td>\n",
       "      <td>Italian</td>\n",
       "      <td>1100</td>\n",
       "      <td>Botswana Pula(P)</td>\n",
       "      <td>1</td>\n",
       "      <td>0</td>\n",
       "      <td>0</td>\n",
       "      <td>expensive</td>\n",
       "      <td>4.6</td>\n",
       "      <td>darkgreen</td>\n",
       "      <td>Excellent</td>\n",
       "      <td>619</td>\n",
       "    </tr>\n",
       "    <tr>\n",
       "      <th>2</th>\n",
       "      <td>6314542</td>\n",
       "      <td>Blackbird</td>\n",
       "      <td>Philippines</td>\n",
       "      <td>Makati City</td>\n",
       "      <td>Nielson Tower, Ayala Triangle Gardens, Salcedo...</td>\n",
       "      <td>Ayala Triangle Gardens, Salcedo Village, Makat...</td>\n",
       "      <td>Ayala Triangle Gardens, Salcedo Village, Makat...</td>\n",
       "      <td>121.024562</td>\n",
       "      <td>14.556042</td>\n",
       "      <td>European</td>\n",
       "      <td>3100</td>\n",
       "      <td>Botswana Pula(P)</td>\n",
       "      <td>0</td>\n",
       "      <td>0</td>\n",
       "      <td>0</td>\n",
       "      <td>gourmet</td>\n",
       "      <td>4.7</td>\n",
       "      <td>darkgreen</td>\n",
       "      <td>Excellent</td>\n",
       "      <td>469</td>\n",
       "    </tr>\n",
       "    <tr>\n",
       "      <th>3</th>\n",
       "      <td>6301293</td>\n",
       "      <td>Banapple</td>\n",
       "      <td>Philippines</td>\n",
       "      <td>Makati City</td>\n",
       "      <td>Ayala Triangle Gardens, Salcedo Village, Makat...</td>\n",
       "      <td>Ayala Triangle Gardens, Salcedo Village, Makat...</td>\n",
       "      <td>Ayala Triangle Gardens, Salcedo Village, Makat...</td>\n",
       "      <td>121.023171</td>\n",
       "      <td>14.556196</td>\n",
       "      <td>Filipino</td>\n",
       "      <td>800</td>\n",
       "      <td>Botswana Pula(P)</td>\n",
       "      <td>0</td>\n",
       "      <td>0</td>\n",
       "      <td>0</td>\n",
       "      <td>expensive</td>\n",
       "      <td>4.4</td>\n",
       "      <td>green</td>\n",
       "      <td>Very Good</td>\n",
       "      <td>867</td>\n",
       "    </tr>\n",
       "    <tr>\n",
       "      <th>4</th>\n",
       "      <td>6315689</td>\n",
       "      <td>Bad Bird</td>\n",
       "      <td>Philippines</td>\n",
       "      <td>Makati City</td>\n",
       "      <td>Hole In The Wall, Floor 4, Century City Mall, ...</td>\n",
       "      <td>Century City Mall, Poblacion, Makati City</td>\n",
       "      <td>Century City Mall, Poblacion, Makati City, Mak...</td>\n",
       "      <td>121.027708</td>\n",
       "      <td>14.565899</td>\n",
       "      <td>American</td>\n",
       "      <td>700</td>\n",
       "      <td>Botswana Pula(P)</td>\n",
       "      <td>0</td>\n",
       "      <td>0</td>\n",
       "      <td>0</td>\n",
       "      <td>expensive</td>\n",
       "      <td>4.4</td>\n",
       "      <td>green</td>\n",
       "      <td>Very Good</td>\n",
       "      <td>858</td>\n",
       "    </tr>\n",
       "    <tr>\n",
       "      <th>5</th>\n",
       "      <td>6304833</td>\n",
       "      <td>Manam</td>\n",
       "      <td>Philippines</td>\n",
       "      <td>Makati City</td>\n",
       "      <td>Level 1, Greenbelt 2, Ayala Center, Greenbelt,...</td>\n",
       "      <td>Greenbelt 2, San Lorenzo, Makati City</td>\n",
       "      <td>Greenbelt 2, San Lorenzo, Makati City, Makati ...</td>\n",
       "      <td>121.020380</td>\n",
       "      <td>14.552351</td>\n",
       "      <td>Filipino</td>\n",
       "      <td>700</td>\n",
       "      <td>Botswana Pula(P)</td>\n",
       "      <td>0</td>\n",
       "      <td>0</td>\n",
       "      <td>0</td>\n",
       "      <td>expensive</td>\n",
       "      <td>4.7</td>\n",
       "      <td>darkgreen</td>\n",
       "      <td>Excellent</td>\n",
       "      <td>930</td>\n",
       "    </tr>\n",
       "  </tbody>\n",
       "</table>\n",
       "</div>"
      ],
      "text/plain": [
       "   Restaurant_ID             Restaurant_Name Country_Name            City  \\\n",
       "0        6310675  Mama Lou's Italian Kitchen  Philippines  Las Piñas City   \n",
       "2        6314542                   Blackbird  Philippines     Makati City   \n",
       "3        6301293                    Banapple  Philippines     Makati City   \n",
       "4        6315689                    Bad Bird  Philippines     Makati City   \n",
       "5        6304833                       Manam  Philippines     Makati City   \n",
       "\n",
       "                                             Address  \\\n",
       "0  Block 1, Lot 36, Tropical Avenue Corner Tropic...   \n",
       "2  Nielson Tower, Ayala Triangle Gardens, Salcedo...   \n",
       "3  Ayala Triangle Gardens, Salcedo Village, Makat...   \n",
       "4  Hole In The Wall, Floor 4, Century City Mall, ...   \n",
       "5  Level 1, Greenbelt 2, Ayala Center, Greenbelt,...   \n",
       "\n",
       "                                            Locality  \\\n",
       "0                                   BF International   \n",
       "2  Ayala Triangle Gardens, Salcedo Village, Makat...   \n",
       "3  Ayala Triangle Gardens, Salcedo Village, Makat...   \n",
       "4          Century City Mall, Poblacion, Makati City   \n",
       "5              Greenbelt 2, San Lorenzo, Makati City   \n",
       "\n",
       "                                    Locality_Verbose   Longitude   Latitude  \\\n",
       "0                   BF International, Las Piñas City  121.009787  14.447615   \n",
       "2  Ayala Triangle Gardens, Salcedo Village, Makat...  121.024562  14.556042   \n",
       "3  Ayala Triangle Gardens, Salcedo Village, Makat...  121.023171  14.556196   \n",
       "4  Century City Mall, Poblacion, Makati City, Mak...  121.027708  14.565899   \n",
       "5  Greenbelt 2, San Lorenzo, Makati City, Makati ...  121.020380  14.552351   \n",
       "\n",
       "   Cuisines  Average_Cost_for_two          Currency  Has_Table_booking  \\\n",
       "0   Italian                  1100  Botswana Pula(P)                  1   \n",
       "2  European                  3100  Botswana Pula(P)                  0   \n",
       "3  Filipino                   800  Botswana Pula(P)                  0   \n",
       "4  American                   700  Botswana Pula(P)                  0   \n",
       "5  Filipino                   700  Botswana Pula(P)                  0   \n",
       "\n",
       "   Has_Online_delivery  Is_delivering_now Price_range  Aggregate_rating  \\\n",
       "0                    0                  0   expensive               4.6   \n",
       "2                    0                  0     gourmet               4.7   \n",
       "3                    0                  0   expensive               4.4   \n",
       "4                    0                  0   expensive               4.4   \n",
       "5                    0                  0   expensive               4.7   \n",
       "\n",
       "  Rating_color Rating_text  Votes  \n",
       "0    darkgreen   Excellent    619  \n",
       "2    darkgreen   Excellent    469  \n",
       "3        green   Very Good    867  \n",
       "4        green   Very Good    858  \n",
       "5    darkgreen   Excellent    930  "
      ]
     },
     "execution_count": 7,
     "metadata": {},
     "output_type": "execute_result"
    }
   ],
   "source": [
    "df.head()"
   ]
  },
  {
   "attachments": {},
   "cell_type": "markdown",
   "metadata": {},
   "source": [
    "## Geral"
   ]
  },
  {
   "attachments": {},
   "cell_type": "markdown",
   "metadata": {},
   "source": [
    "#### 1. Quantos restaurantes únicos estão registrados?"
   ]
  },
  {
   "cell_type": "code",
   "execution_count": 251,
   "metadata": {},
   "outputs": [
    {
     "name": "stdout",
     "output_type": "stream",
     "text": [
      "Estão registrados 6927 restaurantes na plataforma.\n"
     ]
    }
   ],
   "source": [
    "restaurantes_unicos = df[\"Restaurant_ID\"].nunique()\n",
    "print(f\"Estão registrados {restaurantes_unicos} restaurantes na plataforma.\")"
   ]
  },
  {
   "attachments": {},
   "cell_type": "markdown",
   "metadata": {},
   "source": [
    "#### 2. Quantos países únicos estão registrados?"
   ]
  },
  {
   "cell_type": "code",
   "execution_count": 6,
   "metadata": {},
   "outputs": [
    {
     "name": "stdout",
     "output_type": "stream",
     "text": [
      "Estão registrados 15 países na plataforma.\n"
     ]
    }
   ],
   "source": [
    "paises_unicos = df[\"Country_Name\"].nunique()\n",
    "print(f\"Estão registrados {paises_unicos} países na plataforma.\")"
   ]
  },
  {
   "attachments": {},
   "cell_type": "markdown",
   "metadata": {},
   "source": [
    "#### 3. Quantas cidades únicas estão registradas?"
   ]
  },
  {
   "cell_type": "code",
   "execution_count": 206,
   "metadata": {},
   "outputs": [
    {
     "name": "stdout",
     "output_type": "stream",
     "text": [
      "Estão registradas 125 cidades na plataforma.\n"
     ]
    }
   ],
   "source": [
    "cidades_unicas = df[\"City\"].nunique()\n",
    "print(f\"Estão registradas {cidades_unicas} cidades na plataforma.\")"
   ]
  },
  {
   "attachments": {},
   "cell_type": "markdown",
   "metadata": {},
   "source": [
    "#### 4. Qual o total de avaliações feitas?"
   ]
  },
  {
   "cell_type": "code",
   "execution_count": 207,
   "metadata": {},
   "outputs": [
    {
     "name": "stdout",
     "output_type": "stream",
     "text": [
      "Foram feitas 4194530 avaliações na plataforma.\n"
     ]
    }
   ],
   "source": [
    "total_avaliacoes = df[\"Votes\"].sum()\n",
    "print(f\"Foram feitas {total_avaliacoes} avaliações na plataforma.\")"
   ]
  },
  {
   "attachments": {},
   "cell_type": "markdown",
   "metadata": {},
   "source": [
    "#### 5. Qual o total de tipos de culinária registrados?"
   ]
  },
  {
   "cell_type": "code",
   "execution_count": 208,
   "metadata": {},
   "outputs": [
    {
     "name": "stdout",
     "output_type": "stream",
     "text": [
      "Foram registradas 163 tipos de culinária na plataforma.\n"
     ]
    }
   ],
   "source": [
    "tipos_culinaria = df[\"Cuisines\"].nunique()\n",
    "print(f\"Foram registradas {tipos_culinaria} tipos de culinária na plataforma.\")"
   ]
  },
  {
   "attachments": {},
   "cell_type": "markdown",
   "metadata": {},
   "source": [
    "## Países"
   ]
  },
  {
   "attachments": {},
   "cell_type": "markdown",
   "metadata": {},
   "source": [
    "#### 1. Qual o nome do país que possui mais cidades registradas?"
   ]
  },
  {
   "cell_type": "code",
   "execution_count": 209,
   "metadata": {},
   "outputs": [
    {
     "name": "stdout",
     "output_type": "stream",
     "text": [
      "  Country_Name  City\n",
      "0        India    49\n",
      "\n",
      "O país é a Índia com 49 cidades registradas.\n"
     ]
    }
   ],
   "source": [
    "paises_com_mais_cidades = df.loc[:, [\"Country_Name\", \"City\"]].groupby([\"Country_Name\"]).nunique().sort_values([\"City\"], ascending=False).reset_index()\n",
    "paises_com_mais_cidades \n",
    "pais_com_mais_cidades = paises_com_mais_cidades.iloc[0:1, 0:2]\n",
    "print(pais_com_mais_cidades)\n",
    "valor_pais_com_mais_cidades = paises_com_mais_cidades.iloc[0,1]\n",
    "print(\"\")\n",
    "print(f\"O país é a Índia com {valor_pais_com_mais_cidades} cidades registradas.\")\n",
    "\n"
   ]
  },
  {
   "attachments": {},
   "cell_type": "markdown",
   "metadata": {},
   "source": [
    "#### 2. Qual o nome do país que possui mais restaurantes registrados?"
   ]
  },
  {
   "cell_type": "code",
   "execution_count": 11,
   "metadata": {},
   "outputs": [
    {
     "name": "stdout",
     "output_type": "stream",
     "text": [
      "  Country_Name  Restaurant_ID\n",
      "0        India           3111\n",
      "\n",
      "O país é a Índia com 3111 restaurantes registradas.\n"
     ]
    }
   ],
   "source": [
    "paises_com_mais_restaurantes = df.loc[:, [\"Country_Name\", \"Restaurant_ID\"]].groupby(\"Country_Name\").count().sort_values([\"Restaurant_ID\"], ascending=False).reset_index()\n",
    "paises_com_mais_restaurantes\n",
    "pais_com_mais_restaurantes = paises_com_mais_restaurantes.iloc[0:1, 0:2]\n",
    "print(pais_com_mais_restaurantes)\n",
    "valor_pais_com_mais_restaurantes = paises_com_mais_restaurantes.iloc[0,1]\n",
    "print(\"\")\n",
    "print(f\"O país é a Índia com {valor_pais_com_mais_restaurantes} restaurantes registradas.\")\n"
   ]
  },
  {
   "attachments": {},
   "cell_type": "markdown",
   "metadata": {},
   "source": [
    "#### 3. Qual o nome do país que possui mais restaurantes com o nível de preço igual a 4 registrados?"
   ]
  },
  {
   "cell_type": "code",
   "execution_count": 210,
   "metadata": {},
   "outputs": [
    {
     "name": "stdout",
     "output_type": "stream",
     "text": [
      "  Country_Name  Aggregate_rating\n",
      "0        India               348\n",
      "\n",
      "O país é a Índia com 348 restaurantes registrados nessas condições.\n"
     ]
    }
   ],
   "source": [
    "paises_quatro = df.loc[(df[\"Aggregate_rating\"] == 4), [\"Country_Name\", \"Aggregate_rating\"]]\n",
    "df_paises_quatro = paises_quatro.loc[:, [\"Country_Name\", \"Aggregate_rating\"]].groupby(\"Country_Name\").count().sort_values([\"Aggregate_rating\"], ascending=False).reset_index()\n",
    "print(df_paises_quatro.iloc[0:1, 0:2])\n",
    "valor_df_paises_quatro = df_paises_quatro.iloc[0,1]\n",
    "print(\"\")\n",
    "print(f\"O país é a Índia com {valor_df_paises_quatro} restaurantes registrados nessas condições.\")"
   ]
  },
  {
   "attachments": {},
   "cell_type": "markdown",
   "metadata": {},
   "source": [
    "#### 4. Qual o nome do país que possui a maior quantidade de tipos de culinária distintos?"
   ]
  },
  {
   "cell_type": "code",
   "execution_count": 211,
   "metadata": {},
   "outputs": [
    {
     "name": "stdout",
     "output_type": "stream",
     "text": [
      "  Country_Name  Cuisines\n",
      "0        India        77\n",
      "\n",
      "O país é a Índia com 77 tipos de culinárias.\n"
     ]
    }
   ],
   "source": [
    "df_pais_culinaria_distinta = df.loc[:, [\"Country_Name\",\"Cuisines\"]].groupby(\"Country_Name\").nunique().sort_values([\"Cuisines\"], ascending=False).reset_index()\n",
    "print(df_pais_culinaria_distinta.iloc[0:1, 0:2])\n",
    "valor_df_pais_culinaria_distinta = df_pais_culinaria_distinta.iloc[0,1]\n",
    "print(\"\")\n",
    "print(f\"O país é a Índia com {valor_df_pais_culinaria_distinta} tipos de culinárias.\")"
   ]
  },
  {
   "attachments": {},
   "cell_type": "markdown",
   "metadata": {},
   "source": [
    "#### 5. Qual o nome do país que possui a maior quantidade de avaliações feitas?"
   ]
  },
  {
   "cell_type": "code",
   "execution_count": 212,
   "metadata": {},
   "outputs": [
    {
     "name": "stdout",
     "output_type": "stream",
     "text": [
      "  Country_Name    Votes\n",
      "0        India  2800164\n",
      "\n",
      "O país é a Índia com 2800164 avaliações feitas.\n"
     ]
    }
   ],
   "source": [
    "df_pais_mais_avaliacoes = df.loc[:, [\"Country_Name\", \"Votes\"]].groupby(\"Country_Name\").sum().sort_values([\"Votes\"], ascending=False).reset_index()\n",
    "print(df_pais_mais_avaliacoes.iloc[0:1, 0:2])\n",
    "valor_df_pais_mais_avaliacoes = df_pais_mais_avaliacoes.iloc[0,1]\n",
    "print(\"\")\n",
    "print(f\"O país é a Índia com {valor_df_pais_mais_avaliacoes} avaliações feitas.\")"
   ]
  },
  {
   "attachments": {},
   "cell_type": "markdown",
   "metadata": {},
   "source": [
    "#### 6. Qual o nome do país que possui a maior quantidade de restaurantes que fazem entrega?"
   ]
  },
  {
   "cell_type": "code",
   "execution_count": 213,
   "metadata": {},
   "outputs": [
    {
     "name": "stdout",
     "output_type": "stream",
     "text": [
      "  Country_Name  Is_delivering_now\n",
      "0        India               2177\n",
      "\n",
      "O país é a Índia com 2177 restaurantes que fazem entrega.\n"
     ]
    }
   ],
   "source": [
    "paises_com_entrega = df.loc[(df[\"Has_Online_delivery\"] == 1), [\"Country_Name\", \"Is_delivering_now\"]]\n",
    "df_paises_com_entrega = paises_com_entrega.loc[:,[\"Country_Name\", \"Is_delivering_now\"]].groupby(\"Country_Name\").count().sort_values([\"Is_delivering_now\"], ascending=False).reset_index()\n",
    "print(df_paises_com_entrega.iloc[0:1,0:2])\n",
    "valor_df_paises_com_entrega = df_paises_com_entrega.iloc[0,1]\n",
    "print(\"\")\n",
    "print(f\"O país é a Índia com {valor_df_paises_com_entrega} restaurantes que fazem entrega.\")\n"
   ]
  },
  {
   "attachments": {},
   "cell_type": "markdown",
   "metadata": {},
   "source": [
    "#### 7. Qual o nome do país que possui a maior quantidade de restaurantes que aceitam reservas?"
   ]
  },
  {
   "cell_type": "code",
   "execution_count": 214,
   "metadata": {},
   "outputs": [
    {
     "name": "stdout",
     "output_type": "stream",
     "text": [
      "  Country_Name  Has_Table_booking\n",
      "0        India                256\n",
      "\n",
      "O país é a Índia com 256 restaurantes que aceitam reservas de mesas.\n"
     ]
    }
   ],
   "source": [
    "paises_com_reserva = df.loc[(df[\"Has_Table_booking\"] == 1), [\"Country_Name\", \"Has_Table_booking\"]]\n",
    "df_paises_com_reserva = paises_com_reserva.loc[:,[\"Country_Name\", \"Has_Table_booking\"]].groupby(\"Country_Name\").count().sort_values([\"Has_Table_booking\"], ascending=False).reset_index()\n",
    "print(df_paises_com_reserva.iloc[0:1,0:2])\n",
    "valor_df_paises_com_reserva = df_paises_com_reserva.iloc[0,1]\n",
    "print(\"\")\n",
    "print(f\"O país é a Índia com {valor_df_paises_com_reserva} restaurantes que aceitam reservas de mesas.\")"
   ]
  },
  {
   "attachments": {},
   "cell_type": "markdown",
   "metadata": {},
   "source": [
    "#### 8. Qual o nome do país que possui, na média, a maior quantidade de avaliações registrada?"
   ]
  },
  {
   "cell_type": "code",
   "execution_count": 215,
   "metadata": {},
   "outputs": [
    {
     "name": "stdout",
     "output_type": "stream",
     "text": [
      "\n",
      "O país é a Índia com 900.08 avaliações de média registrada.\n"
     ]
    }
   ],
   "source": [
    "df_pais_mais_avaliacoes = df.loc[:, [\"Country_Name\", \"Votes\"]].groupby(\"Country_Name\").sum().sort_values([\"Votes\"], ascending=False).reset_index()\n",
    "#print(df_pais_mais_avaliacoes)\n",
    "paises_com_mais_restaurantes = df.loc[:, [\"Country_Name\", \"Restaurant_ID\"]].groupby(\"Country_Name\").count().sort_values([\"Restaurant_ID\"], ascending=False).reset_index()\n",
    "#print(paises_com_mais_restaurantes)\n",
    "df_aux = pd.merge(df_pais_mais_avaliacoes, paises_com_mais_restaurantes, how=\"inner\")\n",
    "df_aux[\"paises_media\"] = df_aux[\"Votes\"] / df_aux[\"Restaurant_ID\"]\n",
    "valor_df_aux = df_aux.iloc[0, 3]\n",
    "valor_df_aux = round(valor_df_aux,2)\n",
    "print(\"\")\n",
    "print(f\"O país é a Índia com {valor_df_aux} avaliações de média registrada.\")"
   ]
  },
  {
   "attachments": {},
   "cell_type": "markdown",
   "metadata": {},
   "source": [
    "#### 9. Qual o nome do país que possui, na média, a maior nota média registrada?"
   ]
  },
  {
   "cell_type": "code",
   "execution_count": 216,
   "metadata": {},
   "outputs": [
    {
     "name": "stdout",
     "output_type": "stream",
     "text": [
      "O país é a Indonesia com maior nota média registrada de 4.6.\n"
     ]
    }
   ],
   "source": [
    "df_pais_medias = df.loc[:,[\"Country_Name\", \"Aggregate_rating\"]].groupby(\"Country_Name\").mean().sort_values([\"Aggregate_rating\"], ascending=False).reset_index()\n",
    "valor_df_pais_medias= round(df_pais_medias.iloc[0,1],2)\n",
    "valor_df_pais_medias\n",
    "print(f\"O país é a Indonesia com maior nota média registrada de {valor_df_pais_medias}.\")\n"
   ]
  },
  {
   "attachments": {},
   "cell_type": "markdown",
   "metadata": {},
   "source": [
    "#### 10. Qual o nome do país que possui, na média, a menor nota média registrada?"
   ]
  },
  {
   "cell_type": "code",
   "execution_count": 217,
   "metadata": {},
   "outputs": [
    {
     "name": "stdout",
     "output_type": "stream",
     "text": [
      "O país é o Brasil com a menor nota média registrada de 3.34.\n"
     ]
    }
   ],
   "source": [
    "df_pais_medias_min = df.loc[:,[\"Country_Name\", \"Aggregate_rating\"]].groupby(\"Country_Name\").mean().sort_values([\"Aggregate_rating\"], ascending=True).reset_index()\n",
    "valor_df_pais_medias_min= round(df_pais_medias_min.iloc[0,1],2)\n",
    "valor_df_pais_medias_min\n",
    "print(f\"O país é o Brasil com a menor nota média registrada de {valor_df_pais_medias_min}.\")\n"
   ]
  },
  {
   "attachments": {},
   "cell_type": "markdown",
   "metadata": {},
   "source": [
    "#### 11. Qual a média de preço de um prato para dois por país?"
   ]
  },
  {
   "cell_type": "code",
   "execution_count": 218,
   "metadata": {},
   "outputs": [
    {
     "data": {
      "text/html": [
       "<div>\n",
       "<style scoped>\n",
       "    .dataframe tbody tr th:only-of-type {\n",
       "        vertical-align: middle;\n",
       "    }\n",
       "\n",
       "    .dataframe tbody tr th {\n",
       "        vertical-align: top;\n",
       "    }\n",
       "\n",
       "    .dataframe thead th {\n",
       "        text-align: right;\n",
       "    }\n",
       "</style>\n",
       "<table border=\"1\" class=\"dataframe\">\n",
       "  <thead>\n",
       "    <tr style=\"text-align: right;\">\n",
       "      <th></th>\n",
       "      <th>Country_Name</th>\n",
       "      <th>Average_Cost_for_two</th>\n",
       "    </tr>\n",
       "  </thead>\n",
       "  <tbody>\n",
       "    <tr>\n",
       "      <th>0</th>\n",
       "      <td>Indonesia</td>\n",
       "      <td>303000.000000</td>\n",
       "    </tr>\n",
       "    <tr>\n",
       "      <th>1</th>\n",
       "      <td>Australia</td>\n",
       "      <td>138959.783333</td>\n",
       "    </tr>\n",
       "    <tr>\n",
       "      <th>2</th>\n",
       "      <td>Sri Lanka</td>\n",
       "      <td>2579.375000</td>\n",
       "    </tr>\n",
       "    <tr>\n",
       "      <th>3</th>\n",
       "      <td>Philippines</td>\n",
       "      <td>1227.825000</td>\n",
       "    </tr>\n",
       "    <tr>\n",
       "      <th>4</th>\n",
       "      <td>India</td>\n",
       "      <td>704.400514</td>\n",
       "    </tr>\n",
       "    <tr>\n",
       "      <th>5</th>\n",
       "      <td>South Africa</td>\n",
       "      <td>339.515942</td>\n",
       "    </tr>\n",
       "    <tr>\n",
       "      <th>6</th>\n",
       "      <td>Qatar</td>\n",
       "      <td>174.000000</td>\n",
       "    </tr>\n",
       "    <tr>\n",
       "      <th>7</th>\n",
       "      <td>United Arab Emirates</td>\n",
       "      <td>153.716667</td>\n",
       "    </tr>\n",
       "    <tr>\n",
       "      <th>8</th>\n",
       "      <td>Singapure</td>\n",
       "      <td>141.437500</td>\n",
       "    </tr>\n",
       "    <tr>\n",
       "      <th>9</th>\n",
       "      <td>Brazil</td>\n",
       "      <td>139.393305</td>\n",
       "    </tr>\n",
       "    <tr>\n",
       "      <th>10</th>\n",
       "      <td>Turkey</td>\n",
       "      <td>128.584906</td>\n",
       "    </tr>\n",
       "    <tr>\n",
       "      <th>11</th>\n",
       "      <td>New Zeland</td>\n",
       "      <td>62.154812</td>\n",
       "    </tr>\n",
       "    <tr>\n",
       "      <th>12</th>\n",
       "      <td>United States of America</td>\n",
       "      <td>55.029840</td>\n",
       "    </tr>\n",
       "    <tr>\n",
       "      <th>13</th>\n",
       "      <td>England</td>\n",
       "      <td>43.510000</td>\n",
       "    </tr>\n",
       "    <tr>\n",
       "      <th>14</th>\n",
       "      <td>Canada</td>\n",
       "      <td>41.861111</td>\n",
       "    </tr>\n",
       "  </tbody>\n",
       "</table>\n",
       "</div>"
      ],
      "text/plain": [
       "                Country_Name  Average_Cost_for_two\n",
       "0                  Indonesia         303000.000000\n",
       "1                  Australia         138959.783333\n",
       "2                  Sri Lanka           2579.375000\n",
       "3                Philippines           1227.825000\n",
       "4                      India            704.400514\n",
       "5               South Africa            339.515942\n",
       "6                      Qatar            174.000000\n",
       "7       United Arab Emirates            153.716667\n",
       "8                  Singapure            141.437500\n",
       "9                     Brazil            139.393305\n",
       "10                    Turkey            128.584906\n",
       "11                New Zeland             62.154812\n",
       "12  United States of America             55.029840\n",
       "13                   England             43.510000\n",
       "14                    Canada             41.861111"
      ]
     },
     "execution_count": 218,
     "metadata": {},
     "output_type": "execute_result"
    }
   ],
   "source": [
    "media_preco_prato_pais = df.loc[:, [\"Country_Name\", \"Average_Cost_for_two\"]].groupby(\"Country_Name\").mean().sort_values([\"Average_Cost_for_two\"], ascending=False).reset_index()\n",
    "media_preco_prato_pais"
   ]
  },
  {
   "attachments": {},
   "cell_type": "markdown",
   "metadata": {},
   "source": [
    "## Cidade"
   ]
  },
  {
   "attachments": {},
   "cell_type": "markdown",
   "metadata": {},
   "source": [
    "#### 1. Qual o nome da cidade que possui mais restaurantes registrados?"
   ]
  },
  {
   "cell_type": "code",
   "execution_count": 219,
   "metadata": {},
   "outputs": [
    {
     "name": "stdout",
     "output_type": "stream",
     "text": [
      "        City  Restaurant_ID\n",
      "0  Abu Dhabi             80\n",
      "1  Mangalore             80\n",
      "2  Edinburgh             80\n",
      "3    Glasgow             80\n",
      "4        Goa             80\n",
      "\n",
      "A cidade com mais restaurante é Abu Dhabi com 80 restaurantes registrados\n"
     ]
    }
   ],
   "source": [
    "df_cidades_mais_restaurantes = df.loc[:,[\"Restaurant_ID\", \"City\"]].groupby(\"City\").count().sort_values([\"Restaurant_ID\"], ascending=False).reset_index()\n",
    "print(df_cidades_mais_restaurantes.head(5))\n",
    "valor_df_cidades_mais_restaurantes = df_cidades_mais_restaurantes.iloc[0,1]\n",
    "print(\"\")\n",
    "print(f\"A cidade com mais restaurante é Abu Dhabi com {valor_df_cidades_mais_restaurantes} restaurantes registrados\")\n"
   ]
  },
  {
   "attachments": {},
   "cell_type": "markdown",
   "metadata": {},
   "source": [
    "#### 2. Qual o nome da cidade que possui mais restaurantes com nota média acima de 4?"
   ]
  },
  {
   "cell_type": "code",
   "execution_count": 220,
   "metadata": {},
   "outputs": [
    {
     "name": "stdout",
     "output_type": "stream",
     "text": [
      "        City  Aggregate_rating\n",
      "0     London                80\n",
      "1  Bangalore                79\n",
      "2    Houston                77\n",
      "\n",
      "A cidade que possui mais restaurantes nessas condições é Londres com 80 restaurantes.\n"
     ]
    }
   ],
   "source": [
    "cidades_mais_restaurantes_nota4 = df.loc[(df[\"Aggregate_rating\"] >= 4), [\"City\", \"Aggregate_rating\"]]\n",
    "df_cidades_mais_restaurantes_nota4 = cidades_mais_restaurantes_nota4.loc[:,[\"City\", \"Aggregate_rating\"]].groupby(\"City\").count().sort_values([\"Aggregate_rating\"], ascending=False).reset_index()\n",
    "print(df_cidades_mais_restaurantes_nota4.head(3))\n",
    "valor_df_cidades_mais_restaurantes_nota4 = df_cidades_mais_restaurantes_nota4.iloc[0,1]\n",
    "print(\"\")\n",
    "print(f\"A cidade que possui mais restaurantes nessas condições é Londres com {valor_df_cidades_mais_restaurantes_nota4} restaurantes.\")"
   ]
  },
  {
   "attachments": {},
   "cell_type": "markdown",
   "metadata": {},
   "source": [
    "#### 3. Qual o nome da cidade que possui mais restaurantes com nota média abaixo de 2.5?"
   ]
  },
  {
   "cell_type": "code",
   "execution_count": 221,
   "metadata": {},
   "outputs": [
    {
     "name": "stdout",
     "output_type": "stream",
     "text": [
      "       City  Aggregate_rating\n",
      "0   Gangtok                33\n",
      "1      Ooty                19\n",
      "2  Brasília                16\n",
      "\n",
      "A cidade que possui mais restaurantes nessas condições é Gangtok com 33 restaurantes.\n"
     ]
    }
   ],
   "source": [
    "cidades_mais_restaurantes_nota25 = df.loc[(df[\"Aggregate_rating\"] <= 2.5), [\"City\", \"Aggregate_rating\"]]\n",
    "df_cidades_mais_restaurantes_nota25 = cidades_mais_restaurantes_nota25.loc[:,[\"City\", \"Aggregate_rating\"]].groupby(\"City\").count().sort_values([\"Aggregate_rating\"], ascending=False).reset_index()\n",
    "print(df_cidades_mais_restaurantes_nota25.head(3))\n",
    "valor_df_cidades_mais_restaurantes_nota25 = df_cidades_mais_restaurantes_nota25.iloc[0,1]\n",
    "print(\"\")\n",
    "print(f\"A cidade que possui mais restaurantes nessas condições é Gangtok com {valor_df_cidades_mais_restaurantes_nota25} restaurantes.\")"
   ]
  },
  {
   "attachments": {},
   "cell_type": "markdown",
   "metadata": {},
   "source": [
    "#### 4. Qual o nome da cidade que possui o maior valor médio de um prato para dois?"
   ]
  },
  {
   "cell_type": "code",
   "execution_count": 24,
   "metadata": {},
   "outputs": [
    {
     "name": "stdout",
     "output_type": "stream",
     "text": [
      "        City  Average_Cost_for_two\n",
      "0   Adelaide         416734.133333\n",
      "1    Jakarta         309605.263158\n",
      "2  Tangerang         180000.000000\n",
      "\n",
      "A cidade que mais possui restaurantes nessas condições é Adelaide com uma média de 416734.13.\n"
     ]
    }
   ],
   "source": [
    "media_preco_prato_cidade = df.loc[:, [\"City\", \"Average_Cost_for_two\"]].groupby(\"City\").mean().sort_values([\"Average_Cost_for_two\"], ascending=False).reset_index()\n",
    "print(media_preco_prato_cidade.head(3))\n",
    "valor_media_preco_prato_cidade = round(media_preco_prato_cidade.iloc[0,1],2)\n",
    "print(\"\")\n",
    "print(f\"A cidade que mais possui restaurantes nessas condições é Adelaide com uma média de {valor_media_preco_prato_cidade}.\")"
   ]
  },
  {
   "attachments": {},
   "cell_type": "markdown",
   "metadata": {},
   "source": [
    "#### 5. Qual o nome da cidade que possui a maior quantidade de tipos de culinária distintas?"
   ]
  },
  {
   "cell_type": "code",
   "execution_count": 222,
   "metadata": {},
   "outputs": [
    {
     "name": "stdout",
     "output_type": "stream",
     "text": [
      "         City  Cuisines\n",
      "0  Birmingham        32\n",
      "1        Doha        31\n",
      "2    Montreal        30\n",
      "\n",
      "A cidade que possui a maior variedade de culinárias é Birmingham com 32 culinárias.\n"
     ]
    }
   ],
   "source": [
    "cidades_maior_tipos_culinaria = df.loc[:, [\"City\", \"Cuisines\"]].groupby(\"City\").nunique().sort_values([\"Cuisines\"], ascending=False).reset_index()\n",
    "print(cidades_maior_tipos_culinaria.head(3))\n",
    "valor_cidades_maior_tipos_culinaria = cidades_maior_tipos_culinaria.iloc[0,1]\n",
    "print(\"\")\n",
    "print(f\"A cidade que possui a maior variedade de culinárias é Birmingham com {valor_cidades_maior_tipos_culinaria} culinárias.\")"
   ]
  },
  {
   "attachments": {},
   "cell_type": "markdown",
   "metadata": {},
   "source": [
    "#### 6. Qual o nome da cidade que possui a maior quantidade de restaurantes que fazem reservas?"
   ]
  },
  {
   "cell_type": "code",
   "execution_count": 223,
   "metadata": {},
   "outputs": [
    {
     "name": "stdout",
     "output_type": "stream",
     "text": [
      "        City  Has_Table_booking\n",
      "0  Bangalore                 42\n",
      "1    Chennai                 28\n",
      "2       Pune                 25\n",
      "\n",
      " A cidade que possui mais restaurantes nessas condições é Bangalore com 42 restaurantes.\n"
     ]
    }
   ],
   "source": [
    "cidades_com_reserva = df.loc[(df[\"Has_Table_booking\"] == 1), [\"City\", \"Has_Table_booking\"]]\n",
    "df_cidades_com_reserva = cidades_com_reserva.loc[:,[\"City\", \"Has_Table_booking\"]].groupby(\"City\").count().sort_values([\"Has_Table_booking\"], ascending=False).reset_index()\n",
    "print(df_cidades_com_reserva.head(3))\n",
    "valor_df_cidades_com_reserva = df_cidades_com_reserva.iloc[0,1]\n",
    "print(\"\")\n",
    "print(f\" A cidade que possui mais restaurantes nessas condições é Bangalore com {valor_df_cidades_com_reserva} restaurantes.\")"
   ]
  },
  {
   "attachments": {},
   "cell_type": "markdown",
   "metadata": {},
   "source": [
    "#### 7. Qual o nome da cidade que possui a maior quantidade de restaurantes que fazem entregas?"
   ]
  },
  {
   "cell_type": "code",
   "execution_count": 224,
   "metadata": {},
   "outputs": [
    {
     "name": "stdout",
     "output_type": "stream",
     "text": [
      "         City  Is_delivering_now\n",
      "0    Vadodara                 48\n",
      "1    Amritsar                 48\n",
      "2  Aurangabad                 47\n",
      "\n",
      " A cidade que possui mais restaurantes nessas condições é Vadodara com 48 restaurantes.\n"
     ]
    }
   ],
   "source": [
    "cidades_com_entrega = df.loc[(df[\"Is_delivering_now\"] == 1), [\"City\", \"Is_delivering_now\"]]\n",
    "df_cidades_com_entrega = cidades_com_entrega.loc[:,[\"City\", \"Is_delivering_now\"]].groupby(\"City\").count().sort_values([\"Is_delivering_now\"], ascending=False).reset_index()\n",
    "print(df_cidades_com_entrega.head(3))\n",
    "valor_df_cidades_com_entrega = df_cidades_com_entrega.iloc[0,1]\n",
    "print(\"\")\n",
    "print(f\" A cidade que possui mais restaurantes nessas condições é Vadodara com {valor_df_cidades_com_entrega} restaurantes.\")"
   ]
  },
  {
   "attachments": {},
   "cell_type": "markdown",
   "metadata": {},
   "source": [
    "#### 8. Qual o nome da cidade que possui a maior quantidade de restaurantes que aceitam pedidos online?"
   ]
  },
  {
   "cell_type": "code",
   "execution_count": 225,
   "metadata": {},
   "outputs": [
    {
     "name": "stdout",
     "output_type": "stream",
     "text": [
      "        City  Has_Online_delivery\n",
      "0     Bhopal                   75\n",
      "1   Vadodara                   74\n",
      "2  Abu Dhabi                   71\n",
      "\n",
      " A cidade que possui mais restaurantes nessas condições é Bhopal com 75 restaurantes.\n"
     ]
    }
   ],
   "source": [
    "cidades_com_entrega_online = df.loc[(df[\"Has_Online_delivery\"] == 1), [\"City\", \"Has_Online_delivery\"]]\n",
    "df_cidades_com_entrega_online = cidades_com_entrega_online.loc[:,[\"City\", \"Has_Online_delivery\"]].groupby(\"City\").count().sort_values([\"Has_Online_delivery\"], ascending=False).reset_index()\n",
    "print(df_cidades_com_entrega_online.head(3))\n",
    "valor_df_cidades_com_entrega_online = df_cidades_com_entrega_online.iloc[0,1]\n",
    "print(\"\")\n",
    "print(f\" A cidade que possui mais restaurantes nessas condições é Bhopal com {valor_df_cidades_com_entrega_online} restaurantes.\")"
   ]
  },
  {
   "attachments": {},
   "cell_type": "markdown",
   "metadata": {},
   "source": [
    "## Restaurantes"
   ]
  },
  {
   "cell_type": "code",
   "execution_count": 170,
   "metadata": {},
   "outputs": [
    {
     "data": {
      "text/html": [
       "<div>\n",
       "<style scoped>\n",
       "    .dataframe tbody tr th:only-of-type {\n",
       "        vertical-align: middle;\n",
       "    }\n",
       "\n",
       "    .dataframe tbody tr th {\n",
       "        vertical-align: top;\n",
       "    }\n",
       "\n",
       "    .dataframe thead th {\n",
       "        text-align: right;\n",
       "    }\n",
       "</style>\n",
       "<table border=\"1\" class=\"dataframe\">\n",
       "  <thead>\n",
       "    <tr style=\"text-align: right;\">\n",
       "      <th></th>\n",
       "      <th>Restaurant_ID</th>\n",
       "      <th>Restaurant_Name</th>\n",
       "      <th>Country_Name</th>\n",
       "      <th>City</th>\n",
       "      <th>Address</th>\n",
       "      <th>Locality</th>\n",
       "      <th>Locality_Verbose</th>\n",
       "      <th>Longitude</th>\n",
       "      <th>Latitude</th>\n",
       "      <th>Cuisines</th>\n",
       "      <th>Average_Cost_for_two</th>\n",
       "      <th>Currency</th>\n",
       "      <th>Has_Table_booking</th>\n",
       "      <th>Has_Online_delivery</th>\n",
       "      <th>Is_delivering_now</th>\n",
       "      <th>Price_range</th>\n",
       "      <th>Aggregate_rating</th>\n",
       "      <th>Rating_color</th>\n",
       "      <th>Rating_text</th>\n",
       "      <th>Votes</th>\n",
       "    </tr>\n",
       "  </thead>\n",
       "  <tbody>\n",
       "    <tr>\n",
       "      <th>0</th>\n",
       "      <td>6310675</td>\n",
       "      <td>Mama Lou's Italian Kitchen</td>\n",
       "      <td>Philippines</td>\n",
       "      <td>Las Piñas City</td>\n",
       "      <td>Block 1, Lot 36, Tropical Avenue Corner Tropic...</td>\n",
       "      <td>BF International</td>\n",
       "      <td>BF International, Las Piñas City</td>\n",
       "      <td>121.009787</td>\n",
       "      <td>14.447615</td>\n",
       "      <td>Italian</td>\n",
       "      <td>1100</td>\n",
       "      <td>Botswana Pula(P)</td>\n",
       "      <td>1</td>\n",
       "      <td>0</td>\n",
       "      <td>0</td>\n",
       "      <td>expensive</td>\n",
       "      <td>4.6</td>\n",
       "      <td>darkgreen</td>\n",
       "      <td>Excellent</td>\n",
       "      <td>619</td>\n",
       "    </tr>\n",
       "  </tbody>\n",
       "</table>\n",
       "</div>"
      ],
      "text/plain": [
       "   Restaurant_ID             Restaurant_Name Country_Name            City  \\\n",
       "0        6310675  Mama Lou's Italian Kitchen  Philippines  Las Piñas City   \n",
       "\n",
       "                                             Address          Locality  \\\n",
       "0  Block 1, Lot 36, Tropical Avenue Corner Tropic...  BF International   \n",
       "\n",
       "                   Locality_Verbose   Longitude   Latitude Cuisines  \\\n",
       "0  BF International, Las Piñas City  121.009787  14.447615  Italian   \n",
       "\n",
       "   Average_Cost_for_two          Currency  Has_Table_booking  \\\n",
       "0                  1100  Botswana Pula(P)                  1   \n",
       "\n",
       "   Has_Online_delivery  Is_delivering_now Price_range  Aggregate_rating  \\\n",
       "0                    0                  0   expensive               4.6   \n",
       "\n",
       "  Rating_color Rating_text  Votes  \n",
       "0    darkgreen   Excellent    619  "
      ]
     },
     "execution_count": 170,
     "metadata": {},
     "output_type": "execute_result"
    }
   ],
   "source": [
    "df.head(1)"
   ]
  },
  {
   "attachments": {},
   "cell_type": "markdown",
   "metadata": {},
   "source": [
    "#### 1. Qual o nome do restaurante que possui a maior quantidade de avaliações?"
   ]
  },
  {
   "cell_type": "code",
   "execution_count": 226,
   "metadata": {},
   "outputs": [
    {
     "name": "stdout",
     "output_type": "stream",
     "text": [
      "             Restaurant_Name  Votes\n",
      "0             Domino's Pizza  59749\n",
      "1  AB's - Absolute Barbecues  58875\n",
      "2            Barbeque Nation  53200\n",
      "\n",
      "O restaurante com maior quantidade de avaliações é o Domino's Pizza com 59749 avaliações.\n"
     ]
    }
   ],
   "source": [
    "restaurante_maior_quant_avaliacoes = df.loc[:, [\"Restaurant_Name\", \"Votes\"]].groupby(\"Restaurant_Name\").sum().sort_values([\"Votes\"],ascending=False).reset_index()\n",
    "print(restaurante_maior_quant_avaliacoes.head(3))\n",
    "valor_restaurante_maior_quant_avaliacoes = restaurante_maior_quant_avaliacoes.iloc[0,1]\n",
    "print(\"\")\n",
    "print(f\"O restaurante com maior quantidade de avaliações é o Domino's Pizza com {valor_restaurante_maior_quant_avaliacoes} avaliações.\")"
   ]
  },
  {
   "attachments": {},
   "cell_type": "markdown",
   "metadata": {},
   "source": [
    "#### 2. Qual o nome do restaurante com a maior nota média?"
   ]
  },
  {
   "cell_type": "code",
   "execution_count": 227,
   "metadata": {},
   "outputs": [
    {
     "name": "stdout",
     "output_type": "stream",
     "text": [
      "               Restaurant_Name  Aggregate_rating\n",
      "0         Cut By Wolfgang Puck               4.9\n",
      "1  Byg Brewski Brewing Company               4.9\n",
      "2              Texas de Brazil               4.9\n",
      "\n",
      " O restaurante com a maior nota média é o Cut By Wolfgang Puck com nota de 4.9.\n"
     ]
    }
   ],
   "source": [
    "restaurante_maior_nota_media = df.loc[:,[\"Restaurant_Name\", \"Aggregate_rating\"]].groupby(\"Restaurant_Name\").max().sort_values([\"Aggregate_rating\"], ascending=False).reset_index()\n",
    "print(restaurante_maior_nota_media.head(20))\n",
    "valor_restaurante_maior_nota_media = restaurante_maior_nota_media.iloc[0,1]\n",
    "print(\"\")\n",
    "print(f\" O restaurante com a maior nota média é o Cut By Wolfgang Puck com nota de {valor_restaurante_maior_nota_media}.\")"
   ]
  },
  {
   "cell_type": "code",
   "execution_count": 22,
   "metadata": {},
   "outputs": [
    {
     "data": {
      "text/html": [
       "<div>\n",
       "<style scoped>\n",
       "    .dataframe tbody tr th:only-of-type {\n",
       "        vertical-align: middle;\n",
       "    }\n",
       "\n",
       "    .dataframe tbody tr th {\n",
       "        vertical-align: top;\n",
       "    }\n",
       "\n",
       "    .dataframe thead th {\n",
       "        text-align: right;\n",
       "    }\n",
       "</style>\n",
       "<table border=\"1\" class=\"dataframe\">\n",
       "  <thead>\n",
       "    <tr style=\"text-align: right;\">\n",
       "      <th></th>\n",
       "      <th>Restaurant_ID</th>\n",
       "      <th>Restaurant_Name</th>\n",
       "      <th>Country_Name</th>\n",
       "      <th>City</th>\n",
       "      <th>Address</th>\n",
       "      <th>Locality</th>\n",
       "      <th>Locality_Verbose</th>\n",
       "      <th>Longitude</th>\n",
       "      <th>Latitude</th>\n",
       "      <th>Cuisines</th>\n",
       "      <th>Average_Cost_for_two</th>\n",
       "      <th>Currency</th>\n",
       "      <th>Has_Table_booking</th>\n",
       "      <th>Has_Online_delivery</th>\n",
       "      <th>Is_delivering_now</th>\n",
       "      <th>Price_range</th>\n",
       "      <th>Aggregate_rating</th>\n",
       "      <th>Rating_color</th>\n",
       "      <th>Rating_text</th>\n",
       "      <th>Votes</th>\n",
       "    </tr>\n",
       "  </thead>\n",
       "  <tbody>\n",
       "    <tr>\n",
       "      <th>0</th>\n",
       "      <td>6310675</td>\n",
       "      <td>Mama Lou's Italian Kitchen</td>\n",
       "      <td>Philippines</td>\n",
       "      <td>Las Piñas City</td>\n",
       "      <td>Block 1, Lot 36, Tropical Avenue Corner Tropic...</td>\n",
       "      <td>BF International</td>\n",
       "      <td>BF International, Las Piñas City</td>\n",
       "      <td>121.009787</td>\n",
       "      <td>14.447615</td>\n",
       "      <td>Italian</td>\n",
       "      <td>1100</td>\n",
       "      <td>Botswana Pula(P)</td>\n",
       "      <td>1</td>\n",
       "      <td>0</td>\n",
       "      <td>0</td>\n",
       "      <td>expensive</td>\n",
       "      <td>4.6</td>\n",
       "      <td>darkgreen</td>\n",
       "      <td>Excellent</td>\n",
       "      <td>619</td>\n",
       "    </tr>\n",
       "    <tr>\n",
       "      <th>2</th>\n",
       "      <td>6314542</td>\n",
       "      <td>Blackbird</td>\n",
       "      <td>Philippines</td>\n",
       "      <td>Makati City</td>\n",
       "      <td>Nielson Tower, Ayala Triangle Gardens, Salcedo...</td>\n",
       "      <td>Ayala Triangle Gardens, Salcedo Village, Makat...</td>\n",
       "      <td>Ayala Triangle Gardens, Salcedo Village, Makat...</td>\n",
       "      <td>121.024562</td>\n",
       "      <td>14.556042</td>\n",
       "      <td>European</td>\n",
       "      <td>3100</td>\n",
       "      <td>Botswana Pula(P)</td>\n",
       "      <td>0</td>\n",
       "      <td>0</td>\n",
       "      <td>0</td>\n",
       "      <td>gourmet</td>\n",
       "      <td>4.7</td>\n",
       "      <td>darkgreen</td>\n",
       "      <td>Excellent</td>\n",
       "      <td>469</td>\n",
       "    </tr>\n",
       "    <tr>\n",
       "      <th>3</th>\n",
       "      <td>6301293</td>\n",
       "      <td>Banapple</td>\n",
       "      <td>Philippines</td>\n",
       "      <td>Makati City</td>\n",
       "      <td>Ayala Triangle Gardens, Salcedo Village, Makat...</td>\n",
       "      <td>Ayala Triangle Gardens, Salcedo Village, Makat...</td>\n",
       "      <td>Ayala Triangle Gardens, Salcedo Village, Makat...</td>\n",
       "      <td>121.023171</td>\n",
       "      <td>14.556196</td>\n",
       "      <td>Filipino</td>\n",
       "      <td>800</td>\n",
       "      <td>Botswana Pula(P)</td>\n",
       "      <td>0</td>\n",
       "      <td>0</td>\n",
       "      <td>0</td>\n",
       "      <td>expensive</td>\n",
       "      <td>4.4</td>\n",
       "      <td>green</td>\n",
       "      <td>Very Good</td>\n",
       "      <td>867</td>\n",
       "    </tr>\n",
       "    <tr>\n",
       "      <th>4</th>\n",
       "      <td>6315689</td>\n",
       "      <td>Bad Bird</td>\n",
       "      <td>Philippines</td>\n",
       "      <td>Makati City</td>\n",
       "      <td>Hole In The Wall, Floor 4, Century City Mall, ...</td>\n",
       "      <td>Century City Mall, Poblacion, Makati City</td>\n",
       "      <td>Century City Mall, Poblacion, Makati City, Mak...</td>\n",
       "      <td>121.027708</td>\n",
       "      <td>14.565899</td>\n",
       "      <td>American</td>\n",
       "      <td>700</td>\n",
       "      <td>Botswana Pula(P)</td>\n",
       "      <td>0</td>\n",
       "      <td>0</td>\n",
       "      <td>0</td>\n",
       "      <td>expensive</td>\n",
       "      <td>4.4</td>\n",
       "      <td>green</td>\n",
       "      <td>Very Good</td>\n",
       "      <td>858</td>\n",
       "    </tr>\n",
       "    <tr>\n",
       "      <th>5</th>\n",
       "      <td>6304833</td>\n",
       "      <td>Manam</td>\n",
       "      <td>Philippines</td>\n",
       "      <td>Makati City</td>\n",
       "      <td>Level 1, Greenbelt 2, Ayala Center, Greenbelt,...</td>\n",
       "      <td>Greenbelt 2, San Lorenzo, Makati City</td>\n",
       "      <td>Greenbelt 2, San Lorenzo, Makati City, Makati ...</td>\n",
       "      <td>121.020380</td>\n",
       "      <td>14.552351</td>\n",
       "      <td>Filipino</td>\n",
       "      <td>700</td>\n",
       "      <td>Botswana Pula(P)</td>\n",
       "      <td>0</td>\n",
       "      <td>0</td>\n",
       "      <td>0</td>\n",
       "      <td>expensive</td>\n",
       "      <td>4.7</td>\n",
       "      <td>darkgreen</td>\n",
       "      <td>Excellent</td>\n",
       "      <td>930</td>\n",
       "    </tr>\n",
       "    <tr>\n",
       "      <th>6</th>\n",
       "      <td>18409457</td>\n",
       "      <td>Soban K-Town Grill</td>\n",
       "      <td>Philippines</td>\n",
       "      <td>Makati City</td>\n",
       "      <td>Level 3, Greenbelt 3, Ayala Center, Greenbelt,...</td>\n",
       "      <td>Greenbelt 3, San Lorenzo, Makati City</td>\n",
       "      <td>Greenbelt 3, San Lorenzo, Makati City, Makati ...</td>\n",
       "      <td>121.021388</td>\n",
       "      <td>14.552248</td>\n",
       "      <td>Korean</td>\n",
       "      <td>1300</td>\n",
       "      <td>Botswana Pula(P)</td>\n",
       "      <td>0</td>\n",
       "      <td>0</td>\n",
       "      <td>0</td>\n",
       "      <td>expensive</td>\n",
       "      <td>4.7</td>\n",
       "      <td>darkgreen</td>\n",
       "      <td>Excellent</td>\n",
       "      <td>935</td>\n",
       "    </tr>\n",
       "    <tr>\n",
       "      <th>7</th>\n",
       "      <td>18607559</td>\n",
       "      <td>Bluesmith Coffee &amp; Kitchen</td>\n",
       "      <td>Philippines</td>\n",
       "      <td>Makati City</td>\n",
       "      <td>Level 3, Greenbelt 3, Ayala Center, Greenbelt,...</td>\n",
       "      <td>Greenbelt 3, San Lorenzo, Makati City</td>\n",
       "      <td>Greenbelt 3, San Lorenzo, Makati City, Makati ...</td>\n",
       "      <td>121.021374</td>\n",
       "      <td>14.552044</td>\n",
       "      <td>American</td>\n",
       "      <td>700</td>\n",
       "      <td>Botswana Pula(P)</td>\n",
       "      <td>0</td>\n",
       "      <td>0</td>\n",
       "      <td>0</td>\n",
       "      <td>expensive</td>\n",
       "      <td>4.0</td>\n",
       "      <td>green</td>\n",
       "      <td>Very Good</td>\n",
       "      <td>340</td>\n",
       "    </tr>\n",
       "    <tr>\n",
       "      <th>8</th>\n",
       "      <td>6314001</td>\n",
       "      <td>Motorino Pizzeria Napoletana</td>\n",
       "      <td>Philippines</td>\n",
       "      <td>Makati City</td>\n",
       "      <td>Level 2, Greenbelt 3, Ayala Center, Greenbelt,...</td>\n",
       "      <td>Greenbelt 3, San Lorenzo, Makati City</td>\n",
       "      <td>Greenbelt 3, San Lorenzo, Makati City, Makati ...</td>\n",
       "      <td>121.021772</td>\n",
       "      <td>14.551875</td>\n",
       "      <td>Pizza</td>\n",
       "      <td>1000</td>\n",
       "      <td>Botswana Pula(P)</td>\n",
       "      <td>0</td>\n",
       "      <td>1</td>\n",
       "      <td>1</td>\n",
       "      <td>expensive</td>\n",
       "      <td>4.3</td>\n",
       "      <td>green</td>\n",
       "      <td>Very Good</td>\n",
       "      <td>449</td>\n",
       "    </tr>\n",
       "    <tr>\n",
       "      <th>9</th>\n",
       "      <td>18189398</td>\n",
       "      <td>Shi Lin</td>\n",
       "      <td>Philippines</td>\n",
       "      <td>Makati City</td>\n",
       "      <td>Level 3, Greenbelt 3, Ayala Center, Greenbelt,...</td>\n",
       "      <td>Greenbelt 3, San Lorenzo, Makati City</td>\n",
       "      <td>Greenbelt 3, San Lorenzo, Makati City, Makati ...</td>\n",
       "      <td>121.021653</td>\n",
       "      <td>14.552189</td>\n",
       "      <td>Taiwanese</td>\n",
       "      <td>1000</td>\n",
       "      <td>Botswana Pula(P)</td>\n",
       "      <td>0</td>\n",
       "      <td>1</td>\n",
       "      <td>0</td>\n",
       "      <td>expensive</td>\n",
       "      <td>4.1</td>\n",
       "      <td>green</td>\n",
       "      <td>Very Good</td>\n",
       "      <td>201</td>\n",
       "    </tr>\n",
       "    <tr>\n",
       "      <th>10</th>\n",
       "      <td>6318945</td>\n",
       "      <td>Nikkei</td>\n",
       "      <td>Philippines</td>\n",
       "      <td>Makati City</td>\n",
       "      <td>Unit GO3, Frabelle Business Center, 111 Rada S...</td>\n",
       "      <td>Legaspi Village</td>\n",
       "      <td>Legaspi Village, Makati City</td>\n",
       "      <td>121.018108</td>\n",
       "      <td>14.555784</td>\n",
       "      <td>Japanese</td>\n",
       "      <td>1600</td>\n",
       "      <td>Botswana Pula(P)</td>\n",
       "      <td>1</td>\n",
       "      <td>0</td>\n",
       "      <td>0</td>\n",
       "      <td>gourmet</td>\n",
       "      <td>4.6</td>\n",
       "      <td>darkgreen</td>\n",
       "      <td>Excellent</td>\n",
       "      <td>394</td>\n",
       "    </tr>\n",
       "    <tr>\n",
       "      <th>11</th>\n",
       "      <td>6304287</td>\n",
       "      <td>Izakaya Kikufuji</td>\n",
       "      <td>Philippines</td>\n",
       "      <td>Makati City</td>\n",
       "      <td>Little Tokyo, 2277 Chino Roces Avenue, Legaspi...</td>\n",
       "      <td>Little Tokyo, Legaspi Village, Makati City</td>\n",
       "      <td>Little Tokyo, Legaspi Village, Makati City, Ma...</td>\n",
       "      <td>121.013892</td>\n",
       "      <td>14.553621</td>\n",
       "      <td>Japanese</td>\n",
       "      <td>1200</td>\n",
       "      <td>Botswana Pula(P)</td>\n",
       "      <td>0</td>\n",
       "      <td>0</td>\n",
       "      <td>0</td>\n",
       "      <td>expensive</td>\n",
       "      <td>4.6</td>\n",
       "      <td>darkgreen</td>\n",
       "      <td>Excellent</td>\n",
       "      <td>1293</td>\n",
       "    </tr>\n",
       "    <tr>\n",
       "      <th>12</th>\n",
       "      <td>18664859</td>\n",
       "      <td>Kermit Manila</td>\n",
       "      <td>Philippines</td>\n",
       "      <td>Makati City</td>\n",
       "      <td>4636 Molina Street, Poblacion, Makati City</td>\n",
       "      <td>Poblacion</td>\n",
       "      <td>Poblacion, Makati City</td>\n",
       "      <td>121.029031</td>\n",
       "      <td>14.567539</td>\n",
       "      <td>Italian</td>\n",
       "      <td>1500</td>\n",
       "      <td>Botswana Pula(P)</td>\n",
       "      <td>0</td>\n",
       "      <td>0</td>\n",
       "      <td>0</td>\n",
       "      <td>gourmet</td>\n",
       "      <td>4.5</td>\n",
       "      <td>darkgreen</td>\n",
       "      <td>Excellent</td>\n",
       "      <td>227</td>\n",
       "    </tr>\n",
       "    <tr>\n",
       "      <th>13</th>\n",
       "      <td>6307689</td>\n",
       "      <td>Filling Station</td>\n",
       "      <td>Philippines</td>\n",
       "      <td>Makati City</td>\n",
       "      <td>5012 P. Burgos Street, Poblacion, Makati City ...</td>\n",
       "      <td>Poblacion</td>\n",
       "      <td>Poblacion, Makati City</td>\n",
       "      <td>121.029724</td>\n",
       "      <td>14.563547</td>\n",
       "      <td>American</td>\n",
       "      <td>1600</td>\n",
       "      <td>Botswana Pula(P)</td>\n",
       "      <td>0</td>\n",
       "      <td>0</td>\n",
       "      <td>0</td>\n",
       "      <td>gourmet</td>\n",
       "      <td>4.2</td>\n",
       "      <td>green</td>\n",
       "      <td>Very Good</td>\n",
       "      <td>802</td>\n",
       "    </tr>\n",
       "    <tr>\n",
       "      <th>14</th>\n",
       "      <td>18319210</td>\n",
       "      <td>Ooma</td>\n",
       "      <td>Philippines</td>\n",
       "      <td>Makati City</td>\n",
       "      <td>Ground Floor, Edades Tower And Garden Villas, ...</td>\n",
       "      <td>Rockwell</td>\n",
       "      <td>Rockwell, Makati City</td>\n",
       "      <td>121.035752</td>\n",
       "      <td>14.566021</td>\n",
       "      <td>Japanese</td>\n",
       "      <td>1500</td>\n",
       "      <td>Botswana Pula(P)</td>\n",
       "      <td>0</td>\n",
       "      <td>0</td>\n",
       "      <td>0</td>\n",
       "      <td>gourmet</td>\n",
       "      <td>4.7</td>\n",
       "      <td>darkgreen</td>\n",
       "      <td>Excellent</td>\n",
       "      <td>387</td>\n",
       "    </tr>\n",
       "    <tr>\n",
       "      <th>15</th>\n",
       "      <td>18571449</td>\n",
       "      <td>Nikkei</td>\n",
       "      <td>Philippines</td>\n",
       "      <td>Makati City</td>\n",
       "      <td>Ground Floor, One Rockwell, West Tower, Rockwe...</td>\n",
       "      <td>Rockwell</td>\n",
       "      <td>Rockwell, Makati City</td>\n",
       "      <td>121.037750</td>\n",
       "      <td>14.563279</td>\n",
       "      <td>Japanese</td>\n",
       "      <td>1600</td>\n",
       "      <td>Botswana Pula(P)</td>\n",
       "      <td>1</td>\n",
       "      <td>0</td>\n",
       "      <td>0</td>\n",
       "      <td>gourmet</td>\n",
       "      <td>4.3</td>\n",
       "      <td>green</td>\n",
       "      <td>Very Good</td>\n",
       "      <td>152</td>\n",
       "    </tr>\n",
       "    <tr>\n",
       "      <th>16</th>\n",
       "      <td>18376891</td>\n",
       "      <td>Single Origin</td>\n",
       "      <td>Philippines</td>\n",
       "      <td>Makati City</td>\n",
       "      <td>Ground Floor, Edades Tower &amp; Garden Villas, Am...</td>\n",
       "      <td>Rockwell</td>\n",
       "      <td>Rockwell, Makati City</td>\n",
       "      <td>121.035713</td>\n",
       "      <td>14.565669</td>\n",
       "      <td>Coffee</td>\n",
       "      <td>1450</td>\n",
       "      <td>Botswana Pula(P)</td>\n",
       "      <td>1</td>\n",
       "      <td>0</td>\n",
       "      <td>0</td>\n",
       "      <td>gourmet</td>\n",
       "      <td>4.4</td>\n",
       "      <td>green</td>\n",
       "      <td>Very Good</td>\n",
       "      <td>273</td>\n",
       "    </tr>\n",
       "    <tr>\n",
       "      <th>17</th>\n",
       "      <td>6316125</td>\n",
       "      <td>Mendokoro Ramenba</td>\n",
       "      <td>Philippines</td>\n",
       "      <td>Makati City</td>\n",
       "      <td>V. Corporate Center, Soliman Street, Salcedo V...</td>\n",
       "      <td>Salcedo Village</td>\n",
       "      <td>Salcedo Village, Makati City</td>\n",
       "      <td>121.024663</td>\n",
       "      <td>14.560227</td>\n",
       "      <td>Japanese</td>\n",
       "      <td>1000</td>\n",
       "      <td>Botswana Pula(P)</td>\n",
       "      <td>0</td>\n",
       "      <td>0</td>\n",
       "      <td>0</td>\n",
       "      <td>expensive</td>\n",
       "      <td>4.9</td>\n",
       "      <td>darkgreen</td>\n",
       "      <td>Excellent</td>\n",
       "      <td>1832</td>\n",
       "    </tr>\n",
       "    <tr>\n",
       "      <th>18</th>\n",
       "      <td>6314428</td>\n",
       "      <td>Wildflour Cafe + Bakery</td>\n",
       "      <td>Philippines</td>\n",
       "      <td>Makati City</td>\n",
       "      <td>Ground Floor, V Corporate Center, 125 L. P. Le...</td>\n",
       "      <td>Salcedo Village</td>\n",
       "      <td>Salcedo Village, Makati City</td>\n",
       "      <td>121.024822</td>\n",
       "      <td>14.560228</td>\n",
       "      <td>American</td>\n",
       "      <td>1500</td>\n",
       "      <td>Botswana Pula(P)</td>\n",
       "      <td>1</td>\n",
       "      <td>1</td>\n",
       "      <td>1</td>\n",
       "      <td>gourmet</td>\n",
       "      <td>4.5</td>\n",
       "      <td>darkgreen</td>\n",
       "      <td>Excellent</td>\n",
       "      <td>608</td>\n",
       "    </tr>\n",
       "    <tr>\n",
       "      <th>19</th>\n",
       "      <td>18189371</td>\n",
       "      <td>Din Tai Fung</td>\n",
       "      <td>Philippines</td>\n",
       "      <td>Mandaluyong City</td>\n",
       "      <td>Ground Floor, Mega Fashion Hall, SM Megamall, ...</td>\n",
       "      <td>SM Megamall, Ortigas, Mandaluyong City</td>\n",
       "      <td>SM Megamall, Ortigas, Mandaluyong City, Mandal...</td>\n",
       "      <td>121.056348</td>\n",
       "      <td>14.583105</td>\n",
       "      <td>Chinese</td>\n",
       "      <td>1000</td>\n",
       "      <td>Botswana Pula(P)</td>\n",
       "      <td>0</td>\n",
       "      <td>0</td>\n",
       "      <td>0</td>\n",
       "      <td>expensive</td>\n",
       "      <td>4.7</td>\n",
       "      <td>darkgreen</td>\n",
       "      <td>Excellent</td>\n",
       "      <td>833</td>\n",
       "    </tr>\n",
       "    <tr>\n",
       "      <th>20</th>\n",
       "      <td>6314111</td>\n",
       "      <td>Ippudo</td>\n",
       "      <td>Philippines</td>\n",
       "      <td>Mandaluyong City</td>\n",
       "      <td>Third Floor, Mega Fashion Hall, SM Megamall, O...</td>\n",
       "      <td>SM Megamall, Ortigas, Mandaluyong City</td>\n",
       "      <td>SM Megamall, Ortigas, Mandaluyong City, Mandal...</td>\n",
       "      <td>121.056081</td>\n",
       "      <td>14.583618</td>\n",
       "      <td>Japanese</td>\n",
       "      <td>1200</td>\n",
       "      <td>Botswana Pula(P)</td>\n",
       "      <td>0</td>\n",
       "      <td>0</td>\n",
       "      <td>0</td>\n",
       "      <td>expensive</td>\n",
       "      <td>4.7</td>\n",
       "      <td>darkgreen</td>\n",
       "      <td>Excellent</td>\n",
       "      <td>1089</td>\n",
       "    </tr>\n",
       "  </tbody>\n",
       "</table>\n",
       "</div>"
      ],
      "text/plain": [
       "    Restaurant_ID               Restaurant_Name Country_Name  \\\n",
       "0         6310675    Mama Lou's Italian Kitchen  Philippines   \n",
       "2         6314542                     Blackbird  Philippines   \n",
       "3         6301293                      Banapple  Philippines   \n",
       "4         6315689                      Bad Bird  Philippines   \n",
       "5         6304833                         Manam  Philippines   \n",
       "6        18409457            Soban K-Town Grill  Philippines   \n",
       "7        18607559    Bluesmith Coffee & Kitchen  Philippines   \n",
       "8         6314001  Motorino Pizzeria Napoletana  Philippines   \n",
       "9        18189398                       Shi Lin  Philippines   \n",
       "10        6318945                        Nikkei  Philippines   \n",
       "11        6304287              Izakaya Kikufuji  Philippines   \n",
       "12       18664859                 Kermit Manila  Philippines   \n",
       "13        6307689               Filling Station  Philippines   \n",
       "14       18319210                          Ooma  Philippines   \n",
       "15       18571449                        Nikkei  Philippines   \n",
       "16       18376891                 Single Origin  Philippines   \n",
       "17        6316125             Mendokoro Ramenba  Philippines   \n",
       "18        6314428       Wildflour Cafe + Bakery  Philippines   \n",
       "19       18189371                  Din Tai Fung  Philippines   \n",
       "20        6314111                        Ippudo  Philippines   \n",
       "\n",
       "                City                                            Address  \\\n",
       "0     Las Piñas City  Block 1, Lot 36, Tropical Avenue Corner Tropic...   \n",
       "2        Makati City  Nielson Tower, Ayala Triangle Gardens, Salcedo...   \n",
       "3        Makati City  Ayala Triangle Gardens, Salcedo Village, Makat...   \n",
       "4        Makati City  Hole In The Wall, Floor 4, Century City Mall, ...   \n",
       "5        Makati City  Level 1, Greenbelt 2, Ayala Center, Greenbelt,...   \n",
       "6        Makati City  Level 3, Greenbelt 3, Ayala Center, Greenbelt,...   \n",
       "7        Makati City  Level 3, Greenbelt 3, Ayala Center, Greenbelt,...   \n",
       "8        Makati City  Level 2, Greenbelt 3, Ayala Center, Greenbelt,...   \n",
       "9        Makati City  Level 3, Greenbelt 3, Ayala Center, Greenbelt,...   \n",
       "10       Makati City  Unit GO3, Frabelle Business Center, 111 Rada S...   \n",
       "11       Makati City  Little Tokyo, 2277 Chino Roces Avenue, Legaspi...   \n",
       "12       Makati City         4636 Molina Street, Poblacion, Makati City   \n",
       "13       Makati City  5012 P. Burgos Street, Poblacion, Makati City ...   \n",
       "14       Makati City  Ground Floor, Edades Tower And Garden Villas, ...   \n",
       "15       Makati City  Ground Floor, One Rockwell, West Tower, Rockwe...   \n",
       "16       Makati City  Ground Floor, Edades Tower & Garden Villas, Am...   \n",
       "17       Makati City  V. Corporate Center, Soliman Street, Salcedo V...   \n",
       "18       Makati City  Ground Floor, V Corporate Center, 125 L. P. Le...   \n",
       "19  Mandaluyong City  Ground Floor, Mega Fashion Hall, SM Megamall, ...   \n",
       "20  Mandaluyong City  Third Floor, Mega Fashion Hall, SM Megamall, O...   \n",
       "\n",
       "                                             Locality  \\\n",
       "0                                    BF International   \n",
       "2   Ayala Triangle Gardens, Salcedo Village, Makat...   \n",
       "3   Ayala Triangle Gardens, Salcedo Village, Makat...   \n",
       "4           Century City Mall, Poblacion, Makati City   \n",
       "5               Greenbelt 2, San Lorenzo, Makati City   \n",
       "6               Greenbelt 3, San Lorenzo, Makati City   \n",
       "7               Greenbelt 3, San Lorenzo, Makati City   \n",
       "8               Greenbelt 3, San Lorenzo, Makati City   \n",
       "9               Greenbelt 3, San Lorenzo, Makati City   \n",
       "10                                    Legaspi Village   \n",
       "11         Little Tokyo, Legaspi Village, Makati City   \n",
       "12                                          Poblacion   \n",
       "13                                          Poblacion   \n",
       "14                                           Rockwell   \n",
       "15                                           Rockwell   \n",
       "16                                           Rockwell   \n",
       "17                                    Salcedo Village   \n",
       "18                                    Salcedo Village   \n",
       "19             SM Megamall, Ortigas, Mandaluyong City   \n",
       "20             SM Megamall, Ortigas, Mandaluyong City   \n",
       "\n",
       "                                     Locality_Verbose   Longitude   Latitude  \\\n",
       "0                    BF International, Las Piñas City  121.009787  14.447615   \n",
       "2   Ayala Triangle Gardens, Salcedo Village, Makat...  121.024562  14.556042   \n",
       "3   Ayala Triangle Gardens, Salcedo Village, Makat...  121.023171  14.556196   \n",
       "4   Century City Mall, Poblacion, Makati City, Mak...  121.027708  14.565899   \n",
       "5   Greenbelt 2, San Lorenzo, Makati City, Makati ...  121.020380  14.552351   \n",
       "6   Greenbelt 3, San Lorenzo, Makati City, Makati ...  121.021388  14.552248   \n",
       "7   Greenbelt 3, San Lorenzo, Makati City, Makati ...  121.021374  14.552044   \n",
       "8   Greenbelt 3, San Lorenzo, Makati City, Makati ...  121.021772  14.551875   \n",
       "9   Greenbelt 3, San Lorenzo, Makati City, Makati ...  121.021653  14.552189   \n",
       "10                       Legaspi Village, Makati City  121.018108  14.555784   \n",
       "11  Little Tokyo, Legaspi Village, Makati City, Ma...  121.013892  14.553621   \n",
       "12                             Poblacion, Makati City  121.029031  14.567539   \n",
       "13                             Poblacion, Makati City  121.029724  14.563547   \n",
       "14                              Rockwell, Makati City  121.035752  14.566021   \n",
       "15                              Rockwell, Makati City  121.037750  14.563279   \n",
       "16                              Rockwell, Makati City  121.035713  14.565669   \n",
       "17                       Salcedo Village, Makati City  121.024663  14.560227   \n",
       "18                       Salcedo Village, Makati City  121.024822  14.560228   \n",
       "19  SM Megamall, Ortigas, Mandaluyong City, Mandal...  121.056348  14.583105   \n",
       "20  SM Megamall, Ortigas, Mandaluyong City, Mandal...  121.056081  14.583618   \n",
       "\n",
       "     Cuisines  Average_Cost_for_two          Currency  Has_Table_booking  \\\n",
       "0     Italian                  1100  Botswana Pula(P)                  1   \n",
       "2    European                  3100  Botswana Pula(P)                  0   \n",
       "3    Filipino                   800  Botswana Pula(P)                  0   \n",
       "4    American                   700  Botswana Pula(P)                  0   \n",
       "5    Filipino                   700  Botswana Pula(P)                  0   \n",
       "6      Korean                  1300  Botswana Pula(P)                  0   \n",
       "7    American                   700  Botswana Pula(P)                  0   \n",
       "8       Pizza                  1000  Botswana Pula(P)                  0   \n",
       "9   Taiwanese                  1000  Botswana Pula(P)                  0   \n",
       "10   Japanese                  1600  Botswana Pula(P)                  1   \n",
       "11   Japanese                  1200  Botswana Pula(P)                  0   \n",
       "12    Italian                  1500  Botswana Pula(P)                  0   \n",
       "13   American                  1600  Botswana Pula(P)                  0   \n",
       "14   Japanese                  1500  Botswana Pula(P)                  0   \n",
       "15   Japanese                  1600  Botswana Pula(P)                  1   \n",
       "16     Coffee                  1450  Botswana Pula(P)                  1   \n",
       "17   Japanese                  1000  Botswana Pula(P)                  0   \n",
       "18   American                  1500  Botswana Pula(P)                  1   \n",
       "19    Chinese                  1000  Botswana Pula(P)                  0   \n",
       "20   Japanese                  1200  Botswana Pula(P)                  0   \n",
       "\n",
       "    Has_Online_delivery  Is_delivering_now Price_range  Aggregate_rating  \\\n",
       "0                     0                  0   expensive               4.6   \n",
       "2                     0                  0     gourmet               4.7   \n",
       "3                     0                  0   expensive               4.4   \n",
       "4                     0                  0   expensive               4.4   \n",
       "5                     0                  0   expensive               4.7   \n",
       "6                     0                  0   expensive               4.7   \n",
       "7                     0                  0   expensive               4.0   \n",
       "8                     1                  1   expensive               4.3   \n",
       "9                     1                  0   expensive               4.1   \n",
       "10                    0                  0     gourmet               4.6   \n",
       "11                    0                  0   expensive               4.6   \n",
       "12                    0                  0     gourmet               4.5   \n",
       "13                    0                  0     gourmet               4.2   \n",
       "14                    0                  0     gourmet               4.7   \n",
       "15                    0                  0     gourmet               4.3   \n",
       "16                    0                  0     gourmet               4.4   \n",
       "17                    0                  0   expensive               4.9   \n",
       "18                    1                  1     gourmet               4.5   \n",
       "19                    0                  0   expensive               4.7   \n",
       "20                    0                  0   expensive               4.7   \n",
       "\n",
       "   Rating_color Rating_text  Votes  \n",
       "0     darkgreen   Excellent    619  \n",
       "2     darkgreen   Excellent    469  \n",
       "3         green   Very Good    867  \n",
       "4         green   Very Good    858  \n",
       "5     darkgreen   Excellent    930  \n",
       "6     darkgreen   Excellent    935  \n",
       "7         green   Very Good    340  \n",
       "8         green   Very Good    449  \n",
       "9         green   Very Good    201  \n",
       "10    darkgreen   Excellent    394  \n",
       "11    darkgreen   Excellent   1293  \n",
       "12    darkgreen   Excellent    227  \n",
       "13        green   Very Good    802  \n",
       "14    darkgreen   Excellent    387  \n",
       "15        green   Very Good    152  \n",
       "16        green   Very Good    273  \n",
       "17    darkgreen   Excellent   1832  \n",
       "18    darkgreen   Excellent    608  \n",
       "19    darkgreen   Excellent    833  \n",
       "20    darkgreen   Excellent   1089  "
      ]
     },
     "execution_count": 22,
     "metadata": {},
     "output_type": "execute_result"
    }
   ],
   "source": [
    "df.head(20)"
   ]
  },
  {
   "attachments": {},
   "cell_type": "markdown",
   "metadata": {},
   "source": [
    "#### 3. Qual o nome do restaurante que possui o maior valor de um prato para duas pessoas?"
   ]
  },
  {
   "cell_type": "code",
   "execution_count": 228,
   "metadata": {},
   "outputs": [
    {
     "name": "stdout",
     "output_type": "stream",
     "text": [
      "                Restaurant_Name  Average_Cost_for_two\n",
      "0  d'Arry's Verandah Restaurant              25000017\n",
      "1        The Café - Hotel Mulia               1200000\n",
      "2          GIA Restaurant & Bar                700000\n",
      "\n",
      " O restaurante com a maior valor para prato para dois é o d'Arry's Verandah Restaurant com nota de 25000017.\n"
     ]
    }
   ],
   "source": [
    "restaurante_maior_valor = df.loc[:,[\"Restaurant_Name\", \"Average_Cost_for_two\"]].groupby(\"Restaurant_Name\").max().sort_values([\"Average_Cost_for_two\"], ascending=False).reset_index()\n",
    "print(restaurante_maior_valor.head(3))\n",
    "valor_restaurante_maior_valor = restaurante_maior_valor.iloc[0,1]\n",
    "print(\"\")\n",
    "print(f\" O restaurante com a maior valor para prato para dois é o d'Arry's Verandah Restaurant com nota de {valor_restaurante_maior_valor}.\")"
   ]
  },
  {
   "attachments": {},
   "cell_type": "markdown",
   "metadata": {},
   "source": [
    "#### 4. Qual o nome do restaurante de tipo de culinária brasileira que possui a menor média de avaliação?"
   ]
  },
  {
   "cell_type": "code",
   "execution_count": 229,
   "metadata": {},
   "outputs": [
    {
     "name": "stdout",
     "output_type": "stream",
     "text": [
      "           Restaurant_Name   Cuisines  Aggregate_rating\n",
      "0        Café das Estrelas  Brazilian               3.0\n",
      "1  Confraria Chico Mineiro  Brazilian               3.3\n",
      "2               Liv Lounge  Brazilian               3.3\n",
      "\n",
      "O restaurante de culinária brasileira que possui a menor média de avaliação é o Café das Estrelas com 3.0 de média.\n"
     ]
    }
   ],
   "source": [
    "restaurantes_brasil = df.loc[(df[\"Cuisines\"] == \"Brazilian\") & (df[\"Aggregate_rating\"] >= 0.1), [\"Restaurant_Name\", \"Cuisines\", \"Aggregate_rating\"]]\n",
    "df_menor_avaliacao_restaurantes_brasil = restaurantes_brasil.loc[:, [\"Restaurant_Name\", \"Cuisines\", \"Aggregate_rating\"]].groupby(\"Restaurant_Name\").min().sort_values([\"Aggregate_rating\"], ascending=True).reset_index()\n",
    "print(df_menor_avaliacao_restaurantes_brasil.head(3))\n",
    "valor_df_menor_avaliacao_restaurantes_brasil = df_menor_avaliacao_restaurantes_brasil.iloc[0,2]\n",
    "print(\"\")\n",
    "print(f\"O restaurante de culinária brasileira que possui a menor média de avaliação é o Café das Estrelas com {valor_df_menor_avaliacao_restaurantes_brasil} de média.\")"
   ]
  },
  {
   "attachments": {},
   "cell_type": "markdown",
   "metadata": {},
   "source": [
    "#### 5. Qual o nome do restaurante de tipo de culinária brasileira, e que é do Brasil, que possui a maior média de avaliação?"
   ]
  },
  {
   "cell_type": "code",
   "execution_count": 230,
   "metadata": {},
   "outputs": [
    {
     "name": "stdout",
     "output_type": "stream",
     "text": [
      "         Restaurant_Name  Restaurant_ID  Aggregate_rating\n",
      "0      Braseiro da Gávea        7300955               4.9\n",
      "1              Aprazível        7302898               4.9\n",
      "2        Texas de Brazil       18403563               4.9\n",
      "3  Ola Brasil Restaurant       18667552               4.9\n",
      "\n",
      "O restaurante de culinária brasileira que possui a menor média de avaliação é o Braseiro da Gávea com 4.9 de média.\n"
     ]
    }
   ],
   "source": [
    "restaurantes_brasil = df.loc[(df[\"Cuisines\"] == \"Brazilian\") & (df[\"Aggregate_rating\"] >= 0.1), [\"Restaurant_ID\", \"Restaurant_Name\", \"Cuisines\", \"Aggregate_rating\"]]\n",
    "df_maior_avaliacao_restaurantes_brasil = restaurantes_brasil.loc[:, [\"Restaurant_ID\",\"Restaurant_Name\", \"Aggregate_rating\"]].groupby(\"Restaurant_Name\").max().sort_values([\"Aggregate_rating\"], ascending=False).reset_index()\n",
    "print(df_maior_avaliacao_restaurantes_brasil.head(4))\n",
    "valor_df_maior_avaliacao_restaurantes_brasil = df_maior_avaliacao_restaurantes_brasil.iloc[0,2]\n",
    "print(\"\")\n",
    "print(f\"O restaurante de culinária brasileira que possui a menor média de avaliação é o Braseiro da Gávea com {valor_df_maior_avaliacao_restaurantes_brasil} de média.\")"
   ]
  },
  {
   "attachments": {},
   "cell_type": "markdown",
   "metadata": {},
   "source": [
    "#### 6. Os restaurantes que aceitam pedido online são também, na média, os restaurantes que mais possuem avaliações registradas?"
   ]
  },
  {
   "cell_type": "code",
   "execution_count": 231,
   "metadata": {},
   "outputs": [
    {
     "name": "stdout",
     "output_type": "stream",
     "text": [
      "838.82\n",
      "479.63\n",
      "Sim, os restaurantes com pedido online possuem, na média, mais avaliações (838.82) registradas em comparação aos sem pedido online(479.63).\n"
     ]
    }
   ],
   "source": [
    "restaurantes_com_entrega_online_votes = df.loc[(df[\"Has_Online_delivery\"] == 1), [\"Votes\"]].sum()\n",
    "lista_restaurantes_com_entrega_online = list(restaurantes_com_entrega_online_votes)\n",
    "valor_lista_restaurantes_com_entrega_online_votes = lista_restaurantes_com_entrega_online[0]\n",
    "restaurantes_com_entrega_online = df.loc[(df[\"Has_Online_delivery\"] == 1),\"Restaurant_ID\"].count()\n",
    "\n",
    "##################################\n",
    "restaurantes_sem_entrega_online_votes = df.loc[(df[\"Has_Online_delivery\"] == 0), [\"Votes\"]].sum()\n",
    "lista_restaurantes_sem_entrega_online = list(restaurantes_sem_entrega_online_votes)\n",
    "valor_lista_restaurantes_sem_entrega_online_votes = lista_restaurantes_sem_entrega_online[0]\n",
    "restaurantes_sem_entrega_online = df.loc[(df[\"Has_Online_delivery\"] == 0),\"Restaurant_ID\"].count()\n",
    "\n",
    "####################################\n",
    "media_restaurantes_com_entrega_online_votes = round((valor_lista_restaurantes_com_entrega_online_votes) / (restaurantes_com_entrega_online), 2)\n",
    "print(media_restaurantes_com_entrega_online_votes)\n",
    "\n",
    "media_restaurantes_sem_entrega_online_votes = round((valor_lista_restaurantes_sem_entrega_online_votes) / (restaurantes_sem_entrega_online), 2)\n",
    "print(media_restaurantes_sem_entrega_online_votes)\n",
    "\n",
    "print(f\"Sim, os restaurantes com pedido online possuem, na média, mais avaliações ({media_restaurantes_com_entrega_online_votes}) registradas em comparação aos sem pedido online({media_restaurantes_sem_entrega_online_votes}).\")\n",
    "\n",
    "\n"
   ]
  },
  {
   "attachments": {},
   "cell_type": "markdown",
   "metadata": {},
   "source": [
    "#### 7. Os restaurantes que fazem reservas são também, na média, os restaurantes que possuem o maior valor médio de um prato para duas pessoas?"
   ]
  },
  {
   "cell_type": "code",
   "execution_count": 232,
   "metadata": {},
   "outputs": [
    {
     "name": "stdout",
     "output_type": "stream",
     "text": [
      "420\n",
      "69998.42\n",
      "6507\n",
      "3489.63\n",
      "\n",
      "Sim, os restaurantes que fazem reservas possuem, na média, maior valor de um prato para duas pessoas (69998.42) em comparação aos sem reservas(3489.63).\n"
     ]
    }
   ],
   "source": [
    "restaurantes_com_reserva = df.loc[(df[\"Has_Table_booking\"] == 1), \"Restaurant_ID\"].count()\n",
    "print(restaurantes_com_reserva)\n",
    "valor_prato_restaurantes_com_reserva = round(df.loc[(df[\"Has_Table_booking\"] == 1), \"Average_Cost_for_two\"].mean(),2)\n",
    "print(valor_prato_restaurantes_com_reserva)\n",
    "###############################\n",
    "\n",
    "restaurantes_sem_reserva = df.loc[(df[\"Has_Table_booking\"] == 0), \"Restaurant_ID\"].count()\n",
    "print(restaurantes_sem_reserva)\n",
    "valor_prato_restaurantes_sem_reserva = round(df.loc[(df[\"Has_Table_booking\"] == 0), \"Average_Cost_for_two\"].mean(),2)\n",
    "print(valor_prato_restaurantes_sem_reserva)\n",
    "\n",
    "print(\"\")\n",
    "print(f\"Sim, os restaurantes que fazem reservas possuem, na média, maior valor de um prato para duas pessoas ({valor_prato_restaurantes_com_reserva}) em comparação aos sem reservas({valor_prato_restaurantes_sem_reserva}).\")\n"
   ]
  },
  {
   "attachments": {},
   "cell_type": "markdown",
   "metadata": {},
   "source": [
    "#### 8. Os restaurantes do tipo de culinária japonesa dos Estados Unidos da América possuem um valor médio de prato para duas pessoas maior que as churrascarias americanas (BBQ)?"
   ]
  },
  {
   "cell_type": "code",
   "execution_count": 233,
   "metadata": {},
   "outputs": [
    {
     "name": "stdout",
     "output_type": "stream",
     "text": [
      "56.41\n",
      "39.64\n",
      "\n",
      "Sim, os restaurantes Japoneses possuem um valor médio ($56.41) maior nessas condições do que os de BBQ($39.64)\n"
     ]
    }
   ],
   "source": [
    "restaurantes_japones_usa = df.loc[(df[\"Country_Name\"] == \"United States of America\") & (df[\"Cuisines\"] == \"Japanese\"), [\"Country_Name\", \"Cuisines\", \"Average_Cost_for_two\"]]\n",
    "prato_restaurantes_japones_usa = round(restaurantes_japones_usa.loc[:, \"Average_Cost_for_two\"].mean(),2)\n",
    "print(prato_restaurantes_japones_usa)\n",
    "\n",
    "############################\n",
    "\n",
    "restaurantes_bbq_usa = df.loc[(df[\"Country_Name\"] == \"United States of America\") & (df[\"Cuisines\"] == \"BBQ\"), [\"Country_Name\", \"Cuisines\", \"Average_Cost_for_two\"]]\n",
    "prato_restaurantes_bbq_usa = round(restaurantes_bbq_usa.loc[:, \"Average_Cost_for_two\"].mean(),2) \n",
    "print(prato_restaurantes_bbq_usa)\n",
    "print(\"\")\n",
    "print(f\"Sim, os restaurantes Japoneses possuem um valor médio (${prato_restaurantes_japones_usa}) maior nessas condições do que os de BBQ(${prato_restaurantes_bbq_usa})\")\n",
    "\n",
    "\n",
    "\n",
    "\n",
    "#BBQ"
   ]
  },
  {
   "attachments": {},
   "cell_type": "markdown",
   "metadata": {},
   "source": [
    "## Tipos de Culinária"
   ]
  },
  {
   "cell_type": "code",
   "execution_count": 234,
   "metadata": {},
   "outputs": [
    {
     "data": {
      "text/plain": [
       "array(['Italian', 'European', 'Filipino', 'American', 'Korean', 'Pizza',\n",
       "       'Taiwanese', 'Japanese', 'Coffee', 'Chinese', 'Seafood',\n",
       "       'Singaporean', 'Vietnamese', 'Latin American', 'Healthy Food',\n",
       "       'Cafe', 'Fast Food', 'Brazilian', 'Argentine', 'Arabian', 'Bakery',\n",
       "       'Tex-Mex', 'Bar Food', 'International', 'French', 'Steak',\n",
       "       'German', 'Sushi', 'Grill', 'Peruvian', 'North Eastern',\n",
       "       'Ice Cream', 'Burger', 'Mexican', 'Vegetarian', 'Contemporary',\n",
       "       'Desserts', 'Juices', 'Beverages', 'Spanish', 'Thai', 'Indian',\n",
       "       'BBQ', 'Mongolian', 'Portuguese', 'Greek', 'Asian', 'Author',\n",
       "       'Gourmet Fast Food', 'Lebanese', 'Modern Australian', 'African',\n",
       "       'Coffee and Tea', 'Australian', 'Middle Eastern', 'Malaysian',\n",
       "       'Tapas', 'New American', 'Pub Food', 'Southern', 'Diner', 'Donuts',\n",
       "       'Southwestern', 'Sandwich', 'Irish', 'Mediterranean', 'Cafe Food',\n",
       "       'Korean BBQ', 'Fusion', 'Canadian', 'Breakfast', 'Cajun',\n",
       "       'New Mexican', 'Belgian', 'Cuban', 'Taco', 'Caribbean', 'Polish',\n",
       "       'Deli', 'British', 'California', 'Others', 'Eastern European',\n",
       "       'Creole', 'Ramen', 'Ukrainian', 'Hawaiian', 'Patisserie',\n",
       "       'Yum Cha', 'Pacific Northwest', 'Tea', 'Moroccan', 'Burmese',\n",
       "       'Dim Sum', 'Crepes', 'Fish and Chips', 'Russian', 'Continental',\n",
       "       'South Indian', 'North Indian', 'Salad', 'Finger Food', 'Mandi',\n",
       "       'Turkish', 'Kerala', 'Pakistani', 'Biryani', 'Street Food',\n",
       "       'Nepalese', 'Goan', 'Iranian', 'Mughlai', 'Rajasthani', 'Mithai',\n",
       "       'Maharashtrian', 'Gujarati', 'Rolls', 'Momos', 'Parsi',\n",
       "       'Modern Indian', 'Andhra', 'Tibetan', 'Kebab', 'Chettinad',\n",
       "       'Bengali', 'Assamese', 'Naga', 'Hyderabadi', 'Awadhi', 'Afghan',\n",
       "       'Lucknowi', 'Charcoal Chicken', 'Mangalorean', 'Egyptian',\n",
       "       'Malwani', 'Armenian', 'Roast Chicken', 'Indonesian', 'Western',\n",
       "       'Dimsum', 'Sunda', 'Kiwi', 'Asian Fusion', 'Pan Asian', 'Balti',\n",
       "       'Scottish', 'Cantonese', 'Sri Lankan', 'Khaleeji', 'South African',\n",
       "       'Durban', 'World Cuisine', 'Izgara', 'Home-made', 'Giblets',\n",
       "       'Fresh Fish', 'Restaurant Cafe', 'Kumpir', 'Döner',\n",
       "       'Turkish Pizza', 'Ottoman', 'Old Turkish Bars', 'Kokoreç'],\n",
       "      dtype=object)"
      ]
     },
     "execution_count": 234,
     "metadata": {},
     "output_type": "execute_result"
    }
   ],
   "source": [
    "df[\"Cuisines\"].unique()"
   ]
  },
  {
   "attachments": {},
   "cell_type": "markdown",
   "metadata": {},
   "source": [
    "#### 1. Dos restaurantes que possuem o tipo de culinária italiana, qual o nome do restaurante com a maior média de avaliação?"
   ]
  },
  {
   "cell_type": "code",
   "execution_count": 20,
   "metadata": {},
   "outputs": [
    {
     "name": "stdout",
     "output_type": "stream",
     "text": [
      "   index              Country_Name                 Restaurant_Name  \\\n",
      "3   5408                     India                         Darshan   \n",
      "1   6305                New Zeland                           Ombra   \n",
      "0    366                 Australia    Andre's Cucina & Polenta Bar   \n",
      "2   1280  United States of America  Perricone's Marketplace & Café   \n",
      "4   4056                     India   Zolocrust - Hotel Clarks Amer   \n",
      "\n",
      "   Restaurant_ID Cuisines  Aggregate_rating  \n",
      "3          10021  Italian               4.9  \n",
      "1        7100171  Italian               4.9  \n",
      "0       16587684  Italian               4.9  \n",
      "2       16923457  Italian               4.9  \n",
      "4       18209498  Italian               4.9  \n",
      "O restaurante Italian com a maior média de avaliação é o Restaurante Darshan com 4.9 de média.\n"
     ]
    }
   ],
   "source": [
    "restaurantes_italianos = df.loc[(df[\"Cuisines\"] == \"Italian\"), [\"Country_Name\", \"Restaurant_Name\", \"Restaurant_ID\", \"Cuisines\", \"Aggregate_rating\"]]\n",
    "os_maiores_italianos = restaurantes_italianos.sort_values([\"Aggregate_rating\"], ascending=False).head().reset_index()\n",
    "desempate_italianos = os_maiores_italianos.sort_values([\"Restaurant_ID\"], ascending=True).head()\n",
    "nome_maior_italianos = desempate_italianos.iloc[0,2]\n",
    "avaliacao_maior_italianos = desempate_italianos.iloc[0,5]\n",
    "tipo_culinaria = desempate_italianos.iloc[0,4]\n",
    "print(desempate_italianos)\n",
    "print(f\"O restaurante {tipo_culinaria} com a maior média de avaliação é o Restaurante {nome_maior_italianos} com {avaliacao_maior_italianos} de média.\")\n"
   ]
  },
  {
   "attachments": {},
   "cell_type": "markdown",
   "metadata": {},
   "source": [
    "#### 2. Dos restaurantes que possuem o tipo de culinária italiana, qual o nome do restaurante com a menor média de avaliação?"
   ]
  },
  {
   "cell_type": "code",
   "execution_count": 236,
   "metadata": {},
   "outputs": [
    {
     "name": "stdout",
     "output_type": "stream",
     "text": [
      "   index Restaurant_Name  Restaurant_ID Cuisines  Aggregate_rating\n",
      "0   1587         Siena's       16596386  Italian               2.3\n",
      "1   2137     RPM Italian       18373064  Italian               2.6\n",
      "2   5354        Satsanga        3700020  Italian               2.8\n",
      "\n",
      "O restaurante italiano com a menor média de avaliação é o Restaurante Siena's com 2.3 de média.\n"
     ]
    }
   ],
   "source": [
    "restaurantes_italianos = df.loc[(df[\"Cuisines\"] == \"Italian\") & (df[\"Aggregate_rating\"] >= 0.1), [\"Restaurant_Name\", \"Restaurant_ID\", \"Cuisines\", \"Aggregate_rating\"]]\n",
    "os_menores_italianos = restaurantes_italianos.sort_values([\"Aggregate_rating\"], ascending=True).head(3).reset_index()\n",
    "print(os_menores_italianos)\n",
    "nome_menor_italiano = os_menores_italianos.iloc[0, 1]\n",
    "avaliacao_menor_italiano = os_menores_italianos.iloc[0,4]\n",
    "print(\"\")\n",
    "print(f\"O restaurante italiano com a menor média de avaliação é o Restaurante {nome_menor_italiano} com {avaliacao_menor_italiano} de média.\")\n"
   ]
  },
  {
   "attachments": {},
   "cell_type": "markdown",
   "metadata": {},
   "source": [
    "#### 3. Dos restaurantes que possuem o tipo de culinária americana, qual o nome do restaurante com a maior média de avaliação?"
   ]
  },
  {
   "cell_type": "code",
   "execution_count": 22,
   "metadata": {},
   "outputs": [
    {
     "name": "stdout",
     "output_type": "stream",
     "text": [
      "O restaurante americano com a maior média de avaliação é o Restaurante Burger & Lobster com 4.9 de média.\n"
     ]
    }
   ],
   "source": [
    "restaurantes_americanos = df.loc[(df[\"Cuisines\"] == \"American\") & (df[\"Aggregate_rating\"] >= 0.1), [\"Restaurant_Name\", \"Restaurant_ID\", \"Cuisines\", \"Aggregate_rating\"]]\n",
    "os_maiores_americanos = restaurantes_americanos.sort_values([\"Aggregate_rating\"], ascending=False).head(26).reset_index()\n",
    "desempate_americanos = os_maiores_americanos.sort_values([\"Restaurant_ID\"], ascending=True)\n",
    "nome_maior_americano = desempate_americanos.iloc[0,1]\n",
    "avaliacao_maior_americano = desempate_americanos.iloc[0,4]\n",
    "print(f\"O restaurante americano com a maior média de avaliação é o Restaurante {nome_maior_americano} com {avaliacao_maior_americano} de média.\")"
   ]
  },
  {
   "attachments": {},
   "cell_type": "markdown",
   "metadata": {},
   "source": [
    "#### 4. Dos restaurantes que possuem o tipo de culinária americana, qual o nome do restaurante com a menor média de avaliação?"
   ]
  },
  {
   "cell_type": "code",
   "execution_count": 238,
   "metadata": {},
   "outputs": [
    {
     "name": "stdout",
     "output_type": "stream",
     "text": [
      "O restaurante americano com a menor média de avaliação é o Restaurante Guy Fieri's Kitchen & Bar com 2.2 de média.\n"
     ]
    }
   ],
   "source": [
    "restaurantes_americanos = df.loc[(df[\"Cuisines\"] == \"American\") & (df[\"Aggregate_rating\"] >= 0.1), [\"Restaurant_Name\", \"Restaurant_ID\", \"Cuisines\", \"Aggregate_rating\"]]\n",
    "os_menores_americanos = restaurantes_americanos.sort_values([\"Aggregate_rating\"], ascending=True).head().reset_index()\n",
    "nome_menor_americano = os_menores_americanos.iloc[0,1]\n",
    "avaliacao_menor_americano = os_menores_americanos.iloc[0,4]\n",
    "print(f\"O restaurante americano com a menor média de avaliação é o Restaurante {nome_menor_americano} com {avaliacao_menor_americano} de média.\")"
   ]
  },
  {
   "attachments": {},
   "cell_type": "markdown",
   "metadata": {},
   "source": [
    "#### 5. Dos restaurantes que possuem o tipo de culinária árabe, qual o nome do restaurante com a maior média de avaliação?"
   ]
  },
  {
   "cell_type": "code",
   "execution_count": 23,
   "metadata": {},
   "outputs": [
    {
     "name": "stdout",
     "output_type": "stream",
     "text": [
      "O restaurante árabe com a maior média de avaliação é o Restaurante Mandi@36 com 4.7 de média.\n"
     ]
    }
   ],
   "source": [
    "restaurantes_arabes = df.loc[(df[\"Cuisines\"] == \"Arabian\") & (df[\"Aggregate_rating\"] >= 0.1), [\"Restaurant_Name\", \"Restaurant_ID\", \"Cuisines\", \"Aggregate_rating\"]]\n",
    "os_maiores_arabes = restaurantes_arabes.sort_values([\"Aggregate_rating\"], ascending=False).head().reset_index()\n",
    "nome_maior_arabe = os_maiores_arabes.iloc[0,1]\n",
    "avaliacao_maior_arabe = os_maiores_arabes.iloc[0,4]\n",
    "print(f\"O restaurante árabe com a maior média de avaliação é o Restaurante {nome_maior_arabe} com {avaliacao_maior_arabe} de média.\")\n",
    "print(avaliacao_maior_arabe)"
   ]
  },
  {
   "attachments": {},
   "cell_type": "markdown",
   "metadata": {},
   "source": [
    "#### 6. Dos restaurantes que possuem o tipo de culinária árabe, qual o nome do restaurante com a menor média de avaliação?"
   ]
  },
  {
   "cell_type": "code",
   "execution_count": 240,
   "metadata": {},
   "outputs": [
    {
     "name": "stdout",
     "output_type": "stream",
     "text": [
      "O restaurante árabe com a menor média de avaliação é o Restaurante Empório Árabe com 2.7 de média.\n"
     ]
    }
   ],
   "source": [
    "restaurantes_arabes = df.loc[(df[\"Cuisines\"] == \"Arabian\") & (df[\"Aggregate_rating\"] >= 0.1), [\"Restaurant_Name\", \"Restaurant_ID\", \"Cuisines\", \"Aggregate_rating\"]]\n",
    "os_menores_arabes = restaurantes_arabes.sort_values([\"Aggregate_rating\"], ascending=True).head().reset_index()\n",
    "nome_menor_arabe = os_menores_arabes.iloc[0,1]\n",
    "avaliacao_menor_arabe = os_menores_arabes.iloc[0,4]\n",
    "print(f\"O restaurante árabe com a menor média de avaliação é o Restaurante {nome_menor_arabe} com {avaliacao_menor_arabe} de média.\")"
   ]
  },
  {
   "attachments": {},
   "cell_type": "markdown",
   "metadata": {},
   "source": [
    "#### 7. Dos restaurantes que possuem o tipo de culinária japonesa, qual o nome do restaurante com a maior média de avaliação?"
   ]
  },
  {
   "cell_type": "code",
   "execution_count": 241,
   "metadata": {},
   "outputs": [
    {
     "name": "stdout",
     "output_type": "stream",
     "text": [
      "O restaurante japônes com a maior média de avaliação é o Restaurante Sushi Samba com 4.9 de média.\n"
     ]
    }
   ],
   "source": [
    "restaurantes_japones = df.loc[(df[\"Cuisines\"] == \"Japanese\") & (df[\"Aggregate_rating\"] >= 0.1), [\"Restaurant_Name\", \"Restaurant_ID\", \"Cuisines\", \"Aggregate_rating\"]]\n",
    "os_maiores_japoneses = restaurantes_japones.sort_values([\"Aggregate_rating\"], ascending=False).head(17).reset_index()\n",
    "desempate_japoneses = os_maiores_japoneses.sort_values([\"Restaurant_ID\"], ascending=True)\n",
    "nome_maior_japones = desempate_japoneses.iloc[0,1]\n",
    "avaliacao_maior_japones = desempate_japoneses.iloc[0,4]\n",
    "print(f\"O restaurante japônes com a maior média de avaliação é o Restaurante {nome_maior_japones} com {avaliacao_maior_japones} de média.\")"
   ]
  },
  {
   "attachments": {},
   "cell_type": "markdown",
   "metadata": {},
   "source": [
    "#### 8. Dos restaurantes que possuem o tipo de culinária japonesa, qual o nome do restaurante com a menor média de avaliação?"
   ]
  },
  {
   "cell_type": "code",
   "execution_count": 242,
   "metadata": {},
   "outputs": [
    {
     "name": "stdout",
     "output_type": "stream",
     "text": [
      "O restaurante japônes com a menor média de avaliação é o Restaurante Orienthai com 2.4 de média.\n"
     ]
    }
   ],
   "source": [
    "restaurantes_japones = df.loc[(df[\"Cuisines\"] == \"Japanese\") & (df[\"Aggregate_rating\"] >= 0.1), [\"Restaurant_Name\", \"Restaurant_ID\", \"Cuisines\", \"Aggregate_rating\"]]\n",
    "os_menores_japoneses = restaurantes_japones.sort_values([\"Aggregate_rating\"], ascending=True).head().reset_index()\n",
    "nome_menor_japones = os_menores_japoneses.iloc[0,1]\n",
    "avaliacao_menor_japones = os_menores_japoneses.iloc[0,4]\n",
    "print(f\"O restaurante japônes com a menor média de avaliação é o Restaurante {nome_menor_japones} com {avaliacao_menor_japones} de média.\")"
   ]
  },
  {
   "attachments": {},
   "cell_type": "markdown",
   "metadata": {},
   "source": [
    "#### 9. Dos restaurantes que possuem o tipo de culinária brasileira, qual o nome do restaurante com a maior média de avaliação?"
   ]
  },
  {
   "cell_type": "code",
   "execution_count": 243,
   "metadata": {},
   "outputs": [
    {
     "name": "stdout",
     "output_type": "stream",
     "text": [
      "O restaurante brasileiro com a maior média de avaliação é o Restaurante Braseiro da Gávea com 4.9 de média.\n"
     ]
    }
   ],
   "source": [
    "restaurantes_brasileiros = df.loc[(df[\"Cuisines\"] == \"Brazilian\") & (df[\"Aggregate_rating\"] >= 0.1), [\"Restaurant_Name\", \"Restaurant_ID\", \"Cuisines\", \"Aggregate_rating\"]]\n",
    "os_maiores_brasileiros = restaurantes_brasileiros.sort_values([\"Aggregate_rating\"], ascending=False).head(4).reset_index()\n",
    "desempate_brasileiros = os_maiores_brasileiros.sort_values([\"Restaurant_ID\"], ascending=True)\n",
    "nome_maior_brasileiro = desempate_brasileiros.iloc[0,1]\n",
    "avaliacao_maior_brasileiro = desempate_brasileiros.iloc[0,4]\n",
    "print(f\"O restaurante brasileiro com a maior média de avaliação é o Restaurante {nome_maior_brasileiro} com {avaliacao_maior_brasileiro} de média.\")"
   ]
  },
  {
   "attachments": {},
   "cell_type": "markdown",
   "metadata": {},
   "source": [
    "#### 10. Dos restaurantes que possuem o tipo de culinária brasileira, qual o nome do restaurante com a menor média de avaliação?"
   ]
  },
  {
   "cell_type": "code",
   "execution_count": 244,
   "metadata": {},
   "outputs": [
    {
     "name": "stdout",
     "output_type": "stream",
     "text": [
      "O restaurante brasileiro com a menor média de avaliação é o Restaurante Café das Estrelas com 3.0 de média.\n"
     ]
    }
   ],
   "source": [
    "restaurantes_brasileiros = df.loc[(df[\"Cuisines\"] == \"Brazilian\") & (df[\"Aggregate_rating\"] >= 0.1), [\"Restaurant_Name\", \"Restaurant_ID\", \"Cuisines\", \"Aggregate_rating\"]]\n",
    "os_menores_brasileiros = restaurantes_brasileiros.sort_values([\"Aggregate_rating\"], ascending=True).head(4).reset_index()\n",
    "nome_menor_brasileiro = os_menores_brasileiros.iloc[0,1]\n",
    "avaliacao_menor_brasileiro = os_menores_brasileiros.iloc[0,4]\n",
    "print(f\"O restaurante brasileiro com a menor média de avaliação é o Restaurante {nome_menor_brasileiro} com {avaliacao_menor_brasileiro} de média.\")"
   ]
  },
  {
   "attachments": {},
   "cell_type": "markdown",
   "metadata": {},
   "source": [
    "#### 11. Qual o tipo de culinária que possui o maior valor médio de um prato para duas pessoas?"
   ]
  },
  {
   "cell_type": "code",
   "execution_count": 245,
   "metadata": {},
   "outputs": [
    {
     "name": "stdout",
     "output_type": "stream",
     "text": [
      "O tipo de culinária com o maior valor nessas condições é o Modern Australian com custo médio de 25000017.\n"
     ]
    }
   ],
   "source": [
    "culinaria_maior_prato = df.loc[:, [\"Cuisines\", \"Average_Cost_for_two\"]].sort_values([\"Average_Cost_for_two\"], ascending=False).reset_index()\n",
    "tipo_culinaria_maior_prato = culinaria_maior_prato.iloc[0,1]\n",
    "custo_tipo_culinaria_maior_prato = culinaria_maior_prato.iloc[0,2]\n",
    "print(f\"O tipo de culinária com o maior valor nessas condições é o {tipo_culinaria_maior_prato} com custo médio de {custo_tipo_culinaria_maior_prato}.\")"
   ]
  },
  {
   "attachments": {},
   "cell_type": "markdown",
   "metadata": {},
   "source": [
    "#### 12. Qual o tipo de culinária que possui a maior nota média?"
   ]
  },
  {
   "cell_type": "code",
   "execution_count": 38,
   "metadata": {},
   "outputs": [
    {
     "data": {
      "text/html": [
       "<div>\n",
       "<style scoped>\n",
       "    .dataframe tbody tr th:only-of-type {\n",
       "        vertical-align: middle;\n",
       "    }\n",
       "\n",
       "    .dataframe tbody tr th {\n",
       "        vertical-align: top;\n",
       "    }\n",
       "\n",
       "    .dataframe thead th {\n",
       "        text-align: right;\n",
       "    }\n",
       "</style>\n",
       "<table border=\"1\" class=\"dataframe\">\n",
       "  <thead>\n",
       "    <tr style=\"text-align: right;\">\n",
       "      <th></th>\n",
       "      <th>Cuisines</th>\n",
       "      <th>Aggregate_rating</th>\n",
       "    </tr>\n",
       "  </thead>\n",
       "  <tbody>\n",
       "    <tr>\n",
       "      <th>0</th>\n",
       "      <td>Ramen</td>\n",
       "      <td>4.90</td>\n",
       "    </tr>\n",
       "    <tr>\n",
       "      <th>1</th>\n",
       "      <td>Others</td>\n",
       "      <td>4.90</td>\n",
       "    </tr>\n",
       "    <tr>\n",
       "      <th>2</th>\n",
       "      <td>British</td>\n",
       "      <td>4.80</td>\n",
       "    </tr>\n",
       "    <tr>\n",
       "      <th>3</th>\n",
       "      <td>Caribbean</td>\n",
       "      <td>4.80</td>\n",
       "    </tr>\n",
       "    <tr>\n",
       "      <th>4</th>\n",
       "      <td>Egyptian</td>\n",
       "      <td>4.80</td>\n",
       "    </tr>\n",
       "    <tr>\n",
       "      <th>5</th>\n",
       "      <td>New American</td>\n",
       "      <td>4.75</td>\n",
       "    </tr>\n",
       "    <tr>\n",
       "      <th>6</th>\n",
       "      <td>Sunda</td>\n",
       "      <td>4.75</td>\n",
       "    </tr>\n",
       "    <tr>\n",
       "      <th>7</th>\n",
       "      <td>Southern</td>\n",
       "      <td>4.74</td>\n",
       "    </tr>\n",
       "    <tr>\n",
       "      <th>8</th>\n",
       "      <td>Patisserie</td>\n",
       "      <td>4.73</td>\n",
       "    </tr>\n",
       "    <tr>\n",
       "      <th>9</th>\n",
       "      <td>Sushi</td>\n",
       "      <td>4.73</td>\n",
       "    </tr>\n",
       "    <tr>\n",
       "      <th>10</th>\n",
       "      <td>Tibetan</td>\n",
       "      <td>4.70</td>\n",
       "    </tr>\n",
       "    <tr>\n",
       "      <th>11</th>\n",
       "      <td>Cuban</td>\n",
       "      <td>4.70</td>\n",
       "    </tr>\n",
       "    <tr>\n",
       "      <th>12</th>\n",
       "      <td>Grill</td>\n",
       "      <td>4.67</td>\n",
       "    </tr>\n",
       "    <tr>\n",
       "      <th>13</th>\n",
       "      <td>Canadian</td>\n",
       "      <td>4.67</td>\n",
       "    </tr>\n",
       "    <tr>\n",
       "      <th>14</th>\n",
       "      <td>Greek</td>\n",
       "      <td>4.66</td>\n",
       "    </tr>\n",
       "    <tr>\n",
       "      <th>15</th>\n",
       "      <td>Cajun</td>\n",
       "      <td>4.65</td>\n",
       "    </tr>\n",
       "    <tr>\n",
       "      <th>16</th>\n",
       "      <td>Tapas</td>\n",
       "      <td>4.63</td>\n",
       "    </tr>\n",
       "    <tr>\n",
       "      <th>17</th>\n",
       "      <td>Ice Cream</td>\n",
       "      <td>4.63</td>\n",
       "    </tr>\n",
       "    <tr>\n",
       "      <th>18</th>\n",
       "      <td>Filipino</td>\n",
       "      <td>4.62</td>\n",
       "    </tr>\n",
       "    <tr>\n",
       "      <th>19</th>\n",
       "      <td>Steak</td>\n",
       "      <td>4.62</td>\n",
       "    </tr>\n",
       "  </tbody>\n",
       "</table>\n",
       "</div>"
      ],
      "text/plain": [
       "        Cuisines  Aggregate_rating\n",
       "0          Ramen              4.90\n",
       "1         Others              4.90\n",
       "2        British              4.80\n",
       "3      Caribbean              4.80\n",
       "4       Egyptian              4.80\n",
       "5   New American              4.75\n",
       "6          Sunda              4.75\n",
       "7       Southern              4.74\n",
       "8     Patisserie              4.73\n",
       "9          Sushi              4.73\n",
       "10       Tibetan              4.70\n",
       "11         Cuban              4.70\n",
       "12         Grill              4.67\n",
       "13      Canadian              4.67\n",
       "14         Greek              4.66\n",
       "15         Cajun              4.65\n",
       "16         Tapas              4.63\n",
       "17     Ice Cream              4.63\n",
       "18      Filipino              4.62\n",
       "19         Steak              4.62"
      ]
     },
     "execution_count": 38,
     "metadata": {},
     "output_type": "execute_result"
    }
   ],
   "source": [
    "culinaria_maior_media = round(\n",
    "            df.loc[\n",
    "                (df[\"Votes\"] >= 600),\n",
    "                [\n",
    "                    \"Cuisines\",\n",
    "                    \"Aggregate_rating\",\n",
    "                ],\n",
    "            ]\n",
    "            .groupby(\"Cuisines\")\n",
    "            .mean()\n",
    "            .sort_values([\"Aggregate_rating\"], ascending=False)\n",
    "            .reset_index(),\n",
    "            2,\n",
    "        )\n",
    "culinaria_maior_media.head(20)\n"
   ]
  },
  {
   "cell_type": "code",
   "execution_count": 37,
   "metadata": {},
   "outputs": [
    {
     "data": {
      "text/html": [
       "<div>\n",
       "<style scoped>\n",
       "    .dataframe tbody tr th:only-of-type {\n",
       "        vertical-align: middle;\n",
       "    }\n",
       "\n",
       "    .dataframe tbody tr th {\n",
       "        vertical-align: top;\n",
       "    }\n",
       "\n",
       "    .dataframe thead th {\n",
       "        text-align: right;\n",
       "    }\n",
       "</style>\n",
       "<table border=\"1\" class=\"dataframe\">\n",
       "  <thead>\n",
       "    <tr style=\"text-align: right;\">\n",
       "      <th></th>\n",
       "      <th>Cuisines</th>\n",
       "      <th>Aggregate_rating</th>\n",
       "    </tr>\n",
       "  </thead>\n",
       "  <tbody>\n",
       "    <tr>\n",
       "      <th>0</th>\n",
       "      <td>Australian</td>\n",
       "      <td>3.80</td>\n",
       "    </tr>\n",
       "    <tr>\n",
       "      <th>1</th>\n",
       "      <td>Mongolian</td>\n",
       "      <td>3.80</td>\n",
       "    </tr>\n",
       "    <tr>\n",
       "      <th>2</th>\n",
       "      <td>Awadhi</td>\n",
       "      <td>3.90</td>\n",
       "    </tr>\n",
       "    <tr>\n",
       "      <th>3</th>\n",
       "      <td>Asian Fusion</td>\n",
       "      <td>3.90</td>\n",
       "    </tr>\n",
       "    <tr>\n",
       "      <th>4</th>\n",
       "      <td>Naga</td>\n",
       "      <td>3.90</td>\n",
       "    </tr>\n",
       "    <tr>\n",
       "      <th>5</th>\n",
       "      <td>Yum Cha</td>\n",
       "      <td>3.90</td>\n",
       "    </tr>\n",
       "    <tr>\n",
       "      <th>6</th>\n",
       "      <td>Biryani</td>\n",
       "      <td>3.99</td>\n",
       "    </tr>\n",
       "    <tr>\n",
       "      <th>7</th>\n",
       "      <td>Rajasthani</td>\n",
       "      <td>4.00</td>\n",
       "    </tr>\n",
       "    <tr>\n",
       "      <th>8</th>\n",
       "      <td>Kokoreç</td>\n",
       "      <td>4.00</td>\n",
       "    </tr>\n",
       "    <tr>\n",
       "      <th>9</th>\n",
       "      <td>Home-made</td>\n",
       "      <td>4.00</td>\n",
       "    </tr>\n",
       "    <tr>\n",
       "      <th>10</th>\n",
       "      <td>Momos</td>\n",
       "      <td>4.02</td>\n",
       "    </tr>\n",
       "    <tr>\n",
       "      <th>11</th>\n",
       "      <td>Pizza</td>\n",
       "      <td>4.02</td>\n",
       "    </tr>\n",
       "    <tr>\n",
       "      <th>12</th>\n",
       "      <td>Kerala</td>\n",
       "      <td>4.02</td>\n",
       "    </tr>\n",
       "    <tr>\n",
       "      <th>13</th>\n",
       "      <td>Hyderabadi</td>\n",
       "      <td>4.08</td>\n",
       "    </tr>\n",
       "    <tr>\n",
       "      <th>14</th>\n",
       "      <td>South Indian</td>\n",
       "      <td>4.09</td>\n",
       "    </tr>\n",
       "    <tr>\n",
       "      <th>15</th>\n",
       "      <td>Arabian</td>\n",
       "      <td>4.10</td>\n",
       "    </tr>\n",
       "    <tr>\n",
       "      <th>16</th>\n",
       "      <td>Roast Chicken</td>\n",
       "      <td>4.10</td>\n",
       "    </tr>\n",
       "    <tr>\n",
       "      <th>17</th>\n",
       "      <td>Fish and Chips</td>\n",
       "      <td>4.10</td>\n",
       "    </tr>\n",
       "    <tr>\n",
       "      <th>18</th>\n",
       "      <td>Charcoal Chicken</td>\n",
       "      <td>4.10</td>\n",
       "    </tr>\n",
       "    <tr>\n",
       "      <th>19</th>\n",
       "      <td>Afghan</td>\n",
       "      <td>4.10</td>\n",
       "    </tr>\n",
       "    <tr>\n",
       "      <th>20</th>\n",
       "      <td>Tea</td>\n",
       "      <td>4.10</td>\n",
       "    </tr>\n",
       "    <tr>\n",
       "      <th>21</th>\n",
       "      <td>Mughlai</td>\n",
       "      <td>4.10</td>\n",
       "    </tr>\n",
       "    <tr>\n",
       "      <th>22</th>\n",
       "      <td>Rolls</td>\n",
       "      <td>4.11</td>\n",
       "    </tr>\n",
       "    <tr>\n",
       "      <th>23</th>\n",
       "      <td>Gujarati</td>\n",
       "      <td>4.11</td>\n",
       "    </tr>\n",
       "    <tr>\n",
       "      <th>24</th>\n",
       "      <td>Salad</td>\n",
       "      <td>4.12</td>\n",
       "    </tr>\n",
       "    <tr>\n",
       "      <th>25</th>\n",
       "      <td>Fast Food</td>\n",
       "      <td>4.13</td>\n",
       "    </tr>\n",
       "    <tr>\n",
       "      <th>26</th>\n",
       "      <td>Andhra</td>\n",
       "      <td>4.14</td>\n",
       "    </tr>\n",
       "    <tr>\n",
       "      <th>27</th>\n",
       "      <td>North Indian</td>\n",
       "      <td>4.14</td>\n",
       "    </tr>\n",
       "    <tr>\n",
       "      <th>28</th>\n",
       "      <td>African</td>\n",
       "      <td>4.15</td>\n",
       "    </tr>\n",
       "    <tr>\n",
       "      <th>29</th>\n",
       "      <td>Restaurant Cafe</td>\n",
       "      <td>4.16</td>\n",
       "    </tr>\n",
       "  </tbody>\n",
       "</table>\n",
       "</div>"
      ],
      "text/plain": [
       "            Cuisines  Aggregate_rating\n",
       "0         Australian              3.80\n",
       "1          Mongolian              3.80\n",
       "2             Awadhi              3.90\n",
       "3       Asian Fusion              3.90\n",
       "4               Naga              3.90\n",
       "5            Yum Cha              3.90\n",
       "6            Biryani              3.99\n",
       "7         Rajasthani              4.00\n",
       "8            Kokoreç              4.00\n",
       "9          Home-made              4.00\n",
       "10             Momos              4.02\n",
       "11             Pizza              4.02\n",
       "12            Kerala              4.02\n",
       "13        Hyderabadi              4.08\n",
       "14      South Indian              4.09\n",
       "15           Arabian              4.10\n",
       "16     Roast Chicken              4.10\n",
       "17    Fish and Chips              4.10\n",
       "18  Charcoal Chicken              4.10\n",
       "19            Afghan              4.10\n",
       "20               Tea              4.10\n",
       "21           Mughlai              4.10\n",
       "22             Rolls              4.11\n",
       "23          Gujarati              4.11\n",
       "24             Salad              4.12\n",
       "25         Fast Food              4.13\n",
       "26            Andhra              4.14\n",
       "27      North Indian              4.14\n",
       "28           African              4.15\n",
       "29   Restaurant Cafe              4.16"
      ]
     },
     "execution_count": 37,
     "metadata": {},
     "output_type": "execute_result"
    }
   ],
   "source": [
    "culinaria_pior_media = round(\n",
    "            df.loc[\n",
    "                (df[\"Votes\"] >= 100),\n",
    "                [\n",
    "                    \"Cuisines\",\n",
    "                    \"Aggregate_rating\",\n",
    "                ],\n",
    "            ]\n",
    "            .groupby(\"Cuisines\")\n",
    "            .mean()\n",
    "            .sort_values([\"Aggregate_rating\"], ascending=True)\n",
    "            .reset_index(),\n",
    "            2,\n",
    "        )\n",
    "culinaria_pior_media.head(30)"
   ]
  },
  {
   "cell_type": "code",
   "execution_count": 30,
   "metadata": {},
   "outputs": [
    {
     "data": {
      "text/plain": [
       "605.5334199509167"
      ]
     },
     "execution_count": 30,
     "metadata": {},
     "output_type": "execute_result"
    }
   ],
   "source": [
    "df[\"Votes\"].mean()"
   ]
  },
  {
   "attachments": {},
   "cell_type": "markdown",
   "metadata": {},
   "source": [
    "#### 13. Qual o tipo de culinária que possui mais restaurantes que aceitam pedidos online e fazem entregas?"
   ]
  },
  {
   "cell_type": "code",
   "execution_count": 247,
   "metadata": {},
   "outputs": [
    {
     "name": "stdout",
     "output_type": "stream",
     "text": [
      "       Cuisines  Is_delivering_now\n",
      "0  North Indian                317\n",
      "1          Cafe                131\n",
      "2  South Indian                 79\n",
      "3        Burger                 76\n",
      "4     Fast Food                 72\n",
      "\n",
      "O tipo de culinária que possui mais restaurantes nessas condições é o North Indian com 317 restaurantes\n"
     ]
    }
   ],
   "source": [
    "culinaria_mais_online_entrega = df.loc[(df[\"Has_Online_delivery\"] == 1) & (df[\"Is_delivering_now\"] == 1), [\"Cuisines\",\"Is_delivering_now\"]].groupby(\"Cuisines\").count().sort_values([\"Is_delivering_now\"], ascending=False).reset_index()\n",
    "print(culinaria_mais_online_entrega.head())\n",
    "nome_culinaria_mais_online_entrega = culinaria_mais_online_entrega.iloc[0,0]\n",
    "valor_culinaria_mais_online_entrega = culinaria_mais_online_entrega.iloc[0,1]\n",
    "print(\"\")\n",
    "print(f\"O tipo de culinária que possui mais restaurantes nessas condições é o {nome_culinaria_mais_online_entrega} com {valor_culinaria_mais_online_entrega} restaurantes\")\n"
   ]
  }
 ],
 "metadata": {
  "kernelspec": {
   "display_name": "Python 3",
   "language": "python",
   "name": "python3"
  },
  "language_info": {
   "codemirror_mode": {
    "name": "ipython",
    "version": 3
   },
   "file_extension": ".py",
   "mimetype": "text/x-python",
   "name": "python",
   "nbconvert_exporter": "python",
   "pygments_lexer": "ipython3",
   "version": "3.11.4"
  },
  "orig_nbformat": 4
 },
 "nbformat": 4,
 "nbformat_minor": 2
}
